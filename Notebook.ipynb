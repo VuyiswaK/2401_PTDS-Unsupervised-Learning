{
 "cells": [
  {
   "cell_type": "markdown",
   "id": "6e54bcc1",
   "metadata": {},
   "source": [
    "#### Explore AI Academy: Unsupervised Learning Project\n",
    "\n"
   ]
  },
  {
   "cell_type": "markdown",
   "id": "fb21a5ac",
   "metadata": {},
   "source": [
    "<div style=\"font-size: 35px\">\n",
    "    <font color='Maroon'> <b>Anime Recommender System Project</b></font> "
   ]
  },
  {
   "cell_type": "markdown",
   "id": "e512cb82-e791-4689-926a-51d26287a2dd",
   "metadata": {},
   "source": [
    "![anime_collage](image.png)\n"
   ]
  },
  {
   "cell_type": "markdown",
   "id": "cf3e0653",
   "metadata": {},
   "source": [
    "<a id=\"cont\"></a>\n",
    "\n",
    "## Table of Contents\n",
    "* <b>[1. Project Overview**](#chapter1)\n",
    "    * [1.1 Introduction**](#section_1_1)\n",
    "        * [1.1.1 Problem Statement**](#sub_section_1_1_1)\n",
    "    * [1.2 Objectives**](#section_1_2)\n",
    "* <b>[2. Importing Packages**](#chapter2)\n",
    "* <b>[3. Loading Data**](#chapter3)\n",
    "* <b>[4. Data Cleaning**](#chapter4)\n",
    "* <b>[5. Exploratory Data Analysis (EDA)**](#chapter5)\n",
    "* <b>[6. Feature Engineering**](#chapter6)</b>\n",
    "* [7. Modeling](#chapter7)\n",
    "* [8. Model Performance](#chapter8)\n",
    "* [9. You will learn more in Machine Learning Sprints](#chapter9)\n",
    "* <b>[10. Conclusion**](#chapter10)</b>\n",
    "* [11. References](#chapter11)"
   ]
  },
  {
   "cell_type": "markdown",
   "id": "1ede2e6b",
   "metadata": {},
   "source": [
    "## 1. Project Overview <a class=\"anchor\" id=\"chapter1\"></a>\n",
    "\n",
    "### 1.1 Introduction <a class=\"anchor\" id=\"section_1_1\"></a>\n",
    "\n",
    "\n"
   ]
  },
  {
   "cell_type": "markdown",
   "id": "fc833792",
   "metadata": {},
   "source": [
    "> <b> Objective of the Project:</b>  Build a collaborative and content-based recommender system for a collection of anime titles, capable \n",
    "of accurately predicting how a user will rate an anime title they have not yet viewed, based on their \n",
    "historical preferences.\n",
    "\n",
    "> <b> Data Source:</b> Mention where the data comes from, including specifics about the dataset such as the period it covers, who collected it, and any important features or variables it includes. This establishes the context and relevance of the data.\n",
    "\n",
    "> <b> Importance of the Study:</b> Explain why this project is important. Discuss its relevance or impact in its field, whether it’s improving a business process, advancing scientific understanding, or influencing policy decisions.\n",
    "\n",
    "> <b> Key Questions or Hypotheses:</b> Outline the main questions you aim to answer or hypotheses you plan to test. This sets clear goals for your analysis and what the audience can expect to learn.\n",
    "\n",
    "> <b> Methodology Overview:</b> Provide a brief overview of the methods and techniques you plan to use in your analysis. This doesn’t need to be detailed here but should give a taste of the analytical approach and tools.\n",
    "\n",
    "> <b> Structure of the Notebook:</b> Describe the layout of the notebook. Explain the sections or parts of the analysis to help readers navigate through the content.\n",
    "\n",
    "> <b> Expected Outcomes:</b> If applicable, mention what kind of results or findings you anticipate. This could be specific insights, predictive model performance, or impact assessment."
   ]
  },
  {
   "cell_type": "markdown",
   "id": "0ccf6d27",
   "metadata": {},
   "source": [
    "- #### 1.1.1 Problem Statement <a class=\"anchor\" id=\"sub_section_1_1_1\"></a>"
   ]
  },
  {
   "cell_type": "markdown",
   "id": "c4ecaf71",
   "metadata": {},
   "source": [
    "### 1.2 Objectives <a class=\"anchor\" id=\"section_1_2\"></a>"
   ]
  },
  {
   "cell_type": "markdown",
   "id": "b5267096",
   "metadata": {},
   "source": [
    "You can choose to include all of this information in the introduction or distribute it across various sections. Key points to remember:\n",
    "\n",
    "+ To apply exploratory data analysis.\n",
    "+ To implement feature engineering techniques to extract meaningful information.\n",
    "+ To model and assess various supervised machine learning algorithms for the prediction ...."
   ]
  },
  {
   "cell_type": "markdown",
   "id": "262a6063",
   "metadata": {},
   "source": [
    "## 2. Importing Packages <a class=\"anchor\" id=\"chapter2\"></a>\n",
    "\n",
    "This data set was created to list all shows available on Netflix streaming, and analyze the data to find interesting facts. This data was acquired in July 2022 containing data available in the United States.\n",
    "\n",
    "+ For data manipulation and analysis, `Pandas` and `Numpy`.\n",
    "+ For data visualization, `Matplotlib` and `Seaborn`.\n"
   ]
  },
  {
   "cell_type": "code",
   "execution_count": 1,
   "id": "a367283f",
   "metadata": {},
   "outputs": [],
   "source": [
    "# Libraries for data loading, manipulation and analysis\n",
    "\n",
    "import numpy as np\n",
    "import pandas as pd\n",
    "import csv\n",
    "import seaborn as sns\n",
    "import matplotlib.pyplot as plt\n",
    "\n",
    "# Displays output inline\n",
    "%matplotlib inline\n",
    "\n",
    "# Entity featurization and similarity computation\n",
    "from sklearn.metrics.pairwise import cosine_similarity \n",
    "from sklearn.feature_extraction.text import TfidfVectorizer\n",
    "\n",
    "import operator # <-- Convenient item retrieval during iteration \n",
    "import heapq # <-- Efficient sorting of large lists\n",
    "\n",
    "# Libraries for Handing Errors\n",
    "import warnings\n",
    "warnings.filterwarnings('ignore')\n",
    "\n",
    "# displays unlimited number of columns\n",
    "pd.set_option(\"display.max_columns\", 100)"
   ]
  },
  {
   "cell_type": "markdown",
   "id": "76174680",
   "metadata": {},
   "source": [
    "## 3. Loading Data <a class=\"anchor\" id=\"chapter3\"></a>\n",
    "\n",
    "The data used for this project was located in the `titles.csv` file. To better manipulate and analyse the `titles.csv` file, it was loaded into a Pandas Data Frame using the Pandas function, `.read_csv()` and referred to as `titles_import`. For demonstrating the column index in the dataframe , `index_col=False` was implemented."
   ]
  },
  {
   "cell_type": "markdown",
   "id": "17d5a3b1-6782-4a2e-b471-4c29f6b503dc",
   "metadata": {},
   "source": [
    "#### Anime data"
   ]
  },
  {
   "cell_type": "code",
   "execution_count": 44,
   "id": "ae65e498",
   "metadata": {},
   "outputs": [
    {
     "data": {
      "text/plain": [
       "(12294, 7)"
      ]
     },
     "execution_count": 44,
     "metadata": {},
     "output_type": "execute_result"
    }
   ],
   "source": [
    "# loading dataset\n",
    "df = pd.read_csv(\"anime.csv\", index_col=False)\n",
    "df.head()\n",
    "anime = df.copy()\n",
    "# Displays the number of rows and columns\n",
    "anime.shape"
   ]
  },
  {
   "cell_type": "code",
   "execution_count": 45,
   "id": "bcfca187",
   "metadata": {},
   "outputs": [
    {
     "name": "stdout",
     "output_type": "stream",
     "text": [
      "<class 'pandas.core.frame.DataFrame'>\n",
      "RangeIndex: 12294 entries, 0 to 12293\n",
      "Data columns (total 7 columns):\n",
      " #   Column    Non-Null Count  Dtype  \n",
      "---  ------    --------------  -----  \n",
      " 0   anime_id  12294 non-null  int64  \n",
      " 1   name      12294 non-null  object \n",
      " 2   genre     12232 non-null  object \n",
      " 3   type      12269 non-null  object \n",
      " 4   episodes  12294 non-null  object \n",
      " 5   rating    12064 non-null  float64\n",
      " 6   members   12294 non-null  int64  \n",
      "dtypes: float64(1), int64(2), object(4)\n",
      "memory usage: 672.5+ KB\n"
     ]
    }
   ],
   "source": [
    "## Display summary information about the DataFrame.\n",
    "anime.info()"
   ]
  },
  {
   "cell_type": "code",
   "execution_count": 46,
   "id": "d5f50564-af0b-4a63-be2e-98fab9b5f499",
   "metadata": {},
   "outputs": [
    {
     "data": {
      "text/html": [
       "<div>\n",
       "<style scoped>\n",
       "    .dataframe tbody tr th:only-of-type {\n",
       "        vertical-align: middle;\n",
       "    }\n",
       "\n",
       "    .dataframe tbody tr th {\n",
       "        vertical-align: top;\n",
       "    }\n",
       "\n",
       "    .dataframe thead th {\n",
       "        text-align: right;\n",
       "    }\n",
       "</style>\n",
       "<table border=\"1\" class=\"dataframe\">\n",
       "  <thead>\n",
       "    <tr style=\"text-align: right;\">\n",
       "      <th></th>\n",
       "      <th>anime_id</th>\n",
       "      <th>name</th>\n",
       "      <th>genre</th>\n",
       "      <th>type</th>\n",
       "      <th>episodes</th>\n",
       "      <th>rating</th>\n",
       "      <th>members</th>\n",
       "    </tr>\n",
       "  </thead>\n",
       "  <tbody>\n",
       "    <tr>\n",
       "      <th>0</th>\n",
       "      <td>32281</td>\n",
       "      <td>Kimi no Na wa.</td>\n",
       "      <td>Drama, Romance, School, Supernatural</td>\n",
       "      <td>Movie</td>\n",
       "      <td>1</td>\n",
       "      <td>9.37</td>\n",
       "      <td>200630</td>\n",
       "    </tr>\n",
       "    <tr>\n",
       "      <th>1</th>\n",
       "      <td>5114</td>\n",
       "      <td>Fullmetal Alchemist: Brotherhood</td>\n",
       "      <td>Action, Adventure, Drama, Fantasy, Magic, Mili...</td>\n",
       "      <td>TV</td>\n",
       "      <td>64</td>\n",
       "      <td>9.26</td>\n",
       "      <td>793665</td>\n",
       "    </tr>\n",
       "    <tr>\n",
       "      <th>2</th>\n",
       "      <td>28977</td>\n",
       "      <td>Gintama°</td>\n",
       "      <td>Action, Comedy, Historical, Parody, Samurai, S...</td>\n",
       "      <td>TV</td>\n",
       "      <td>51</td>\n",
       "      <td>9.25</td>\n",
       "      <td>114262</td>\n",
       "    </tr>\n",
       "    <tr>\n",
       "      <th>3</th>\n",
       "      <td>9253</td>\n",
       "      <td>Steins;Gate</td>\n",
       "      <td>Sci-Fi, Thriller</td>\n",
       "      <td>TV</td>\n",
       "      <td>24</td>\n",
       "      <td>9.17</td>\n",
       "      <td>673572</td>\n",
       "    </tr>\n",
       "    <tr>\n",
       "      <th>4</th>\n",
       "      <td>9969</td>\n",
       "      <td>Gintama&amp;#039;</td>\n",
       "      <td>Action, Comedy, Historical, Parody, Samurai, S...</td>\n",
       "      <td>TV</td>\n",
       "      <td>51</td>\n",
       "      <td>9.16</td>\n",
       "      <td>151266</td>\n",
       "    </tr>\n",
       "  </tbody>\n",
       "</table>\n",
       "</div>"
      ],
      "text/plain": [
       "   anime_id                              name  \\\n",
       "0     32281                    Kimi no Na wa.   \n",
       "1      5114  Fullmetal Alchemist: Brotherhood   \n",
       "2     28977                          Gintama°   \n",
       "3      9253                       Steins;Gate   \n",
       "4      9969                     Gintama&#039;   \n",
       "\n",
       "                                               genre   type episodes  rating  \\\n",
       "0               Drama, Romance, School, Supernatural  Movie        1    9.37   \n",
       "1  Action, Adventure, Drama, Fantasy, Magic, Mili...     TV       64    9.26   \n",
       "2  Action, Comedy, Historical, Parody, Samurai, S...     TV       51    9.25   \n",
       "3                                   Sci-Fi, Thriller     TV       24    9.17   \n",
       "4  Action, Comedy, Historical, Parody, Samurai, S...     TV       51    9.16   \n",
       "\n",
       "   members  \n",
       "0   200630  \n",
       "1   793665  \n",
       "2   114262  \n",
       "3   673572  \n",
       "4   151266  "
      ]
     },
     "execution_count": 46,
     "metadata": {},
     "output_type": "execute_result"
    }
   ],
   "source": [
    "anime.head()"
   ]
  },
  {
   "cell_type": "markdown",
   "id": "c3f1faab-ea46-4841-b2ad-e13a736eac88",
   "metadata": {},
   "source": [
    "#### Training data"
   ]
  },
  {
   "cell_type": "code",
   "execution_count": 47,
   "id": "669ddae8-66b5-41bd-8973-110096b24eaf",
   "metadata": {},
   "outputs": [
    {
     "data": {
      "text/plain": [
       "(5703555, 3)"
      ]
     },
     "execution_count": 47,
     "metadata": {},
     "output_type": "execute_result"
    }
   ],
   "source": [
    "#training data\n",
    "df = pd.read_csv(\"train.csv\", index_col=False)\n",
    "train = df.copy()\n",
    "train.shape"
   ]
  },
  {
   "cell_type": "code",
   "execution_count": 48,
   "id": "42891454-4a01-4982-b9b8-e8ecacc3f307",
   "metadata": {},
   "outputs": [
    {
     "name": "stdout",
     "output_type": "stream",
     "text": [
      "<class 'pandas.core.frame.DataFrame'>\n",
      "RangeIndex: 5703555 entries, 0 to 5703554\n",
      "Data columns (total 3 columns):\n",
      " #   Column    Dtype\n",
      "---  ------    -----\n",
      " 0   user_id   int64\n",
      " 1   anime_id  int64\n",
      " 2   rating    int64\n",
      "dtypes: int64(3)\n",
      "memory usage: 130.5 MB\n"
     ]
    }
   ],
   "source": [
    "train.info()"
   ]
  },
  {
   "cell_type": "code",
   "execution_count": 49,
   "id": "98e50e52-4f77-4159-9048-c888f922132a",
   "metadata": {},
   "outputs": [
    {
     "data": {
      "text/plain": [
       "user_id     0\n",
       "anime_id    0\n",
       "rating      0\n",
       "dtype: int64"
      ]
     },
     "execution_count": 49,
     "metadata": {},
     "output_type": "execute_result"
    }
   ],
   "source": [
    "train.isna().sum()"
   ]
  },
  {
   "cell_type": "code",
   "execution_count": 50,
   "id": "8482623e-80ac-4629-861d-28f269d37fde",
   "metadata": {},
   "outputs": [
    {
     "data": {
      "text/html": [
       "<div>\n",
       "<style scoped>\n",
       "    .dataframe tbody tr th:only-of-type {\n",
       "        vertical-align: middle;\n",
       "    }\n",
       "\n",
       "    .dataframe tbody tr th {\n",
       "        vertical-align: top;\n",
       "    }\n",
       "\n",
       "    .dataframe thead th {\n",
       "        text-align: right;\n",
       "    }\n",
       "</style>\n",
       "<table border=\"1\" class=\"dataframe\">\n",
       "  <thead>\n",
       "    <tr style=\"text-align: right;\">\n",
       "      <th></th>\n",
       "      <th>user_id</th>\n",
       "      <th>anime_id</th>\n",
       "      <th>rating</th>\n",
       "    </tr>\n",
       "  </thead>\n",
       "  <tbody>\n",
       "    <tr>\n",
       "      <th>0</th>\n",
       "      <td>1</td>\n",
       "      <td>11617</td>\n",
       "      <td>10</td>\n",
       "    </tr>\n",
       "    <tr>\n",
       "      <th>1</th>\n",
       "      <td>1</td>\n",
       "      <td>11757</td>\n",
       "      <td>10</td>\n",
       "    </tr>\n",
       "    <tr>\n",
       "      <th>2</th>\n",
       "      <td>1</td>\n",
       "      <td>15451</td>\n",
       "      <td>10</td>\n",
       "    </tr>\n",
       "    <tr>\n",
       "      <th>3</th>\n",
       "      <td>2</td>\n",
       "      <td>11771</td>\n",
       "      <td>10</td>\n",
       "    </tr>\n",
       "    <tr>\n",
       "      <th>4</th>\n",
       "      <td>3</td>\n",
       "      <td>20</td>\n",
       "      <td>8</td>\n",
       "    </tr>\n",
       "  </tbody>\n",
       "</table>\n",
       "</div>"
      ],
      "text/plain": [
       "   user_id  anime_id  rating\n",
       "0        1     11617      10\n",
       "1        1     11757      10\n",
       "2        1     15451      10\n",
       "3        2     11771      10\n",
       "4        3        20       8"
      ]
     },
     "execution_count": 50,
     "metadata": {},
     "output_type": "execute_result"
    }
   ],
   "source": [
    "train.head()"
   ]
  },
  {
   "cell_type": "markdown",
   "id": "1fdadc79-20f8-4ed6-8fbb-7657d12a76d8",
   "metadata": {},
   "source": [
    "The dataset consists of 12294 rows of different anime title. There are null in aniem data, training/ user data seems to be well populated with no null, we will check for duplicates."
   ]
  },
  {
   "cell_type": "code",
   "execution_count": 51,
   "id": "60bf5977-56d9-455b-a355-98fbea87f67a",
   "metadata": {},
   "outputs": [],
   "source": [
    "#git ignore train csv too large for github "
   ]
  },
  {
   "cell_type": "markdown",
   "id": "c76627dc",
   "metadata": {},
   "source": [
    "## 4. Data Cleaning <a class=\"anchor\" id=\"chapter4\"></a>"
   ]
  },
  {
   "cell_type": "markdown",
   "id": "bafc1e6b-e613-46c4-80c3-c23ed263b420",
   "metadata": {},
   "source": [
    "**Check nulls**"
   ]
  },
  {
   "cell_type": "markdown",
   "id": "a90f1d71",
   "metadata": {},
   "source": [
    "The `check_null_values` function iterates over each column in a DataFrame to identify and print the count of null values, providing column-specific null counts."
   ]
  },
  {
   "cell_type": "code",
   "execution_count": 52,
   "id": "5d540024",
   "metadata": {},
   "outputs": [],
   "source": [
    "def check_null_values(df_copy):\n",
    "    for column in df_copy:\n",
    "        if df_copy[column].isnull().any():\n",
    "            print('{0} has {1} null values'.format(column, df_copy[column].isnull().sum()))"
   ]
  },
  {
   "cell_type": "code",
   "execution_count": 53,
   "id": "bf5a38a8",
   "metadata": {},
   "outputs": [
    {
     "name": "stdout",
     "output_type": "stream",
     "text": [
      "genre has 62 null values\n",
      "type has 25 null values\n",
      "rating has 230 null values\n"
     ]
    }
   ],
   "source": [
    "check_null_values(anime)"
   ]
  },
  {
   "cell_type": "code",
   "execution_count": 54,
   "id": "c7757e71-3cd5-4027-800c-e1932729f043",
   "metadata": {},
   "outputs": [],
   "source": [
    "anime = anime.dropna() \n",
    "anime = anime.reset_index(drop=True) "
   ]
  },
  {
   "cell_type": "code",
   "execution_count": 55,
   "id": "244164ea-e6c6-45b6-8c99-a54b5490fc5c",
   "metadata": {},
   "outputs": [
    {
     "data": {
      "text/plain": [
       "anime_id    0\n",
       "name        0\n",
       "genre       0\n",
       "type        0\n",
       "episodes    0\n",
       "rating      0\n",
       "members     0\n",
       "dtype: int64"
      ]
     },
     "execution_count": 55,
     "metadata": {},
     "output_type": "execute_result"
    }
   ],
   "source": [
    "anime.isna().sum()"
   ]
  },
  {
   "cell_type": "markdown",
   "id": "7a876de4-cc31-443d-a11e-b980272b14ea",
   "metadata": {},
   "source": [
    "About 277 null rows have been deleted"
   ]
  },
  {
   "cell_type": "markdown",
   "id": "b43d7dfe-5307-4669-b545-e4b074efe75a",
   "metadata": {},
   "source": [
    "**Duplicates**"
   ]
  },
  {
   "cell_type": "markdown",
   "id": "8145f870",
   "metadata": {},
   "source": [
    "The `count_duplicate_rows` function checks a DataFrame for duplicate entries by utilizing the duplicated method, which identifies duplicates, and then summarizes the total number of duplicate rows. This function is useful for data cleaning processes, ensuring uniqueness in datasets by returning the count of duplicate rows."
   ]
  },
  {
   "cell_type": "code",
   "execution_count": 56,
   "id": "861da6b0",
   "metadata": {},
   "outputs": [],
   "source": [
    "def count_duplicate_rows(df_copy):\n",
    "    duplicate_count = df_copy.duplicated().sum()\n",
    "    return duplicate_count\n"
   ]
  },
  {
   "cell_type": "code",
   "execution_count": 57,
   "id": "fd1f7ab8",
   "metadata": {},
   "outputs": [
    {
     "data": {
      "text/plain": [
       "np.int64(0)"
      ]
     },
     "execution_count": 57,
     "metadata": {},
     "output_type": "execute_result"
    }
   ],
   "source": [
    "count_duplicate_rows(anime)"
   ]
  },
  {
   "cell_type": "code",
   "execution_count": 58,
   "id": "db507120-0ecf-4f11-bf18-73ae4701d2c3",
   "metadata": {},
   "outputs": [
    {
     "data": {
      "text/plain": [
       "np.int64(1)"
      ]
     },
     "execution_count": 58,
     "metadata": {},
     "output_type": "execute_result"
    }
   ],
   "source": [
    "count_duplicate_rows(train)\n",
    "\n",
    "#one duplicate, remove"
   ]
  },
  {
   "cell_type": "markdown",
   "id": "5136b9e2",
   "metadata": {},
   "source": [
    "**Remove noise**"
   ]
  },
  {
   "cell_type": "markdown",
   "id": "ba86dfe5-5dc0-417e-add3-0c419e11999a",
   "metadata": {},
   "source": [
    "Initial we though to remvove punctuations and numbers from the data, but this causes errors down the line. We only trim the leading and training spaces."
   ]
  },
  {
   "cell_type": "code",
   "execution_count": 59,
   "id": "b1d76f3f-d5b7-44b4-bc6d-4bb92e0301a7",
   "metadata": {},
   "outputs": [],
   "source": [
    "def remove_numbers_punctuation(text):\n",
    "    # Remve numbers\n",
    "    #text = re.sub(r'\\d+', '', text)\n",
    "    # Remove punctuation\n",
    "    #text = re.sub(r'[^\\w\\s]', '', text)\n",
    "\n",
    "    text = text.strip()\n",
    "    return text"
   ]
  },
  {
   "cell_type": "code",
   "execution_count": 60,
   "id": "2ba24d87-8cc5-4ec7-bc4c-107eb2e13ad5",
   "metadata": {},
   "outputs": [],
   "source": [
    "import re\n",
    "anime['name'] = anime['name'].apply(remove_numbers_punctuation)\n",
    "train = pd.merge(train, anime[['anime_id','name']], on = 'anime_id', how ='left')\n",
    "train = train.dropna() \n",
    "train = train.reset_index(drop=True) "
   ]
  },
  {
   "cell_type": "code",
   "execution_count": 61,
   "id": "4b23a235-4157-4023-bf70-d3591616974e",
   "metadata": {},
   "outputs": [
    {
     "data": {
      "text/plain": [
       "user_id     0\n",
       "anime_id    0\n",
       "rating      0\n",
       "name        0\n",
       "dtype: int64"
      ]
     },
     "execution_count": 61,
     "metadata": {},
     "output_type": "execute_result"
    }
   ],
   "source": [
    "train.isna().sum()"
   ]
  },
  {
   "cell_type": "markdown",
   "id": "0bc1b0c7",
   "metadata": {},
   "source": [
    "##### <a href=#cont>Back to Table of Contents</a>\n",
    "\n",
    "---"
   ]
  },
  {
   "cell_type": "markdown",
   "id": "3c36f830",
   "metadata": {},
   "source": [
    "## 5. Exploratory Data Analysis (EDA) <a class=\"anchor\" id=\"chapter5\"></a>\n",
    "\n",
    "\n",
    "To give a better understanding of the variables and the relationships between them, we set out to do an **Exploratory Data Analysis (EDA)** of our dataset. The main tasks includes investigating and summarizing the dataframe's main characteristics by data visualization methods and statistical analyses. Furthermore, investigating the dataset’s key features, summarizing its central characteristics, and employing both data visualisation techniques and statistical analyses to draw meaningful insights that can guide further research and data-driven decision making.\n",
    " "
   ]
  },
  {
   "cell_type": "markdown",
   "id": "aa12caa9",
   "metadata": {},
   "source": [
    "---"
   ]
  },
  {
   "cell_type": "code",
   "execution_count": 62,
   "id": "1bca9a3d-9b3c-4bf1-81e0-0464d314755a",
   "metadata": {},
   "outputs": [
    {
     "data": {
      "image/png": "[encoded data removed]",
      "text/plain": [
       "<Figure size 640x480 with 1 Axes>"
      ]
     },
     "metadata": {},
     "output_type": "display_data"
    }
   ],
   "source": [
    "import matplotlib.pyplot as plt\n",
    "import seaborn as sns\n",
    "\n",
    "x = anime.groupby('rating').count().reset_index()[['rating','anime_id']]\n",
    "x.head()\n",
    "plt.scatter(x.rating,x.anime_id)\n",
    "#plt.hist(x.rating, bins=10)\n",
    "#sns.kde(x.rating\n",
    "plt.show()\n",
    "#distribution of ratings"
   ]
  },
  {
   "cell_type": "code",
   "execution_count": 63,
   "id": "47a1ea5b-e18d-4efd-ac40-44f952088ee0",
   "metadata": {},
   "outputs": [
    {
     "name": "stdout",
     "output_type": "stream",
     "text": [
      "Average rating in dataset: 7.808690544756735\n"
     ]
    },
    {
     "data": {
      "image/png": "[encoded data removed]",
      "text/plain": [
       "<Figure size 1011.11x500 with 1 Axes>"
      ]
     },
     "metadata": {},
     "output_type": "display_data"
    }
   ],
   "source": [
    "sns.catplot(data=train, x=\"rating\", y=None, aspect=2.0, kind='count')\n",
    "print(f'Average rating in dataset: {np.mean(df[\"rating\"])}')\n",
    "plt.show()"
   ]
  },
  {
   "cell_type": "markdown",
   "id": "5442a692",
   "metadata": {},
   "source": [
    "##### <a href=#cont>Back to Table of Contents</a>\n",
    "\n",
    "---"
   ]
  },
  {
   "cell_type": "markdown",
   "id": "68de8d8a",
   "metadata": {},
   "source": [
    "### 6. Modelling <a class=\"anchor\" id=\"chapter7\"></a>"
   ]
  },
  {
   "cell_type": "markdown",
   "id": "8339dcfb-e621-4a0f-8e2f-8edd2f207f93",
   "metadata": {},
   "source": [
    "#### 6.1 Content Based Filtering"
   ]
  },
  {
   "cell_type": "markdown",
   "id": "6b301a4e-d1e4-41e6-b5ba-ef6bb67e968b",
   "metadata": {},
   "source": [
    "Merge anime name and genre description for completeness, so that if generes are different but names are similar that too is consiered whne computing the simularity score"
   ]
  },
  {
   "cell_type": "code",
   "execution_count": 64,
   "id": "b74d3a9c-e577-4c9e-8146-dbec5b663365",
   "metadata": {},
   "outputs": [],
   "source": [
    "anime['tags'] = (pd.Series(anime[['name', 'genre']]\n",
    "                      .fillna('')\n",
    "                      .values.tolist()).str.join(', '))"
   ]
  },
  {
   "cell_type": "code",
   "execution_count": 65,
   "id": "6b625978-5030-40a3-bab0-1bd4bb6b3ea5",
   "metadata": {},
   "outputs": [
    {
     "data": {
      "text/html": [
       "<div>\n",
       "<style scoped>\n",
       "    .dataframe tbody tr th:only-of-type {\n",
       "        vertical-align: middle;\n",
       "    }\n",
       "\n",
       "    .dataframe tbody tr th {\n",
       "        vertical-align: top;\n",
       "    }\n",
       "\n",
       "    .dataframe thead th {\n",
       "        text-align: right;\n",
       "    }\n",
       "</style>\n",
       "<table border=\"1\" class=\"dataframe\">\n",
       "  <thead>\n",
       "    <tr style=\"text-align: right;\">\n",
       "      <th></th>\n",
       "      <th>anime_id</th>\n",
       "      <th>name</th>\n",
       "      <th>genre</th>\n",
       "      <th>type</th>\n",
       "      <th>episodes</th>\n",
       "      <th>rating</th>\n",
       "      <th>members</th>\n",
       "      <th>tags</th>\n",
       "    </tr>\n",
       "  </thead>\n",
       "  <tbody>\n",
       "    <tr>\n",
       "      <th>0</th>\n",
       "      <td>32281</td>\n",
       "      <td>Kimi no Na wa.</td>\n",
       "      <td>Drama, Romance, School, Supernatural</td>\n",
       "      <td>Movie</td>\n",
       "      <td>1</td>\n",
       "      <td>9.37</td>\n",
       "      <td>200630</td>\n",
       "      <td>Kimi no Na wa., Drama, Romance, School, Supern...</td>\n",
       "    </tr>\n",
       "    <tr>\n",
       "      <th>1</th>\n",
       "      <td>5114</td>\n",
       "      <td>Fullmetal Alchemist: Brotherhood</td>\n",
       "      <td>Action, Adventure, Drama, Fantasy, Magic, Mili...</td>\n",
       "      <td>TV</td>\n",
       "      <td>64</td>\n",
       "      <td>9.26</td>\n",
       "      <td>793665</td>\n",
       "      <td>Fullmetal Alchemist: Brotherhood, Action, Adve...</td>\n",
       "    </tr>\n",
       "    <tr>\n",
       "      <th>2</th>\n",
       "      <td>28977</td>\n",
       "      <td>Gintama°</td>\n",
       "      <td>Action, Comedy, Historical, Parody, Samurai, S...</td>\n",
       "      <td>TV</td>\n",
       "      <td>51</td>\n",
       "      <td>9.25</td>\n",
       "      <td>114262</td>\n",
       "      <td>Gintama°, Action, Comedy, Historical, Parody, ...</td>\n",
       "    </tr>\n",
       "    <tr>\n",
       "      <th>3</th>\n",
       "      <td>9253</td>\n",
       "      <td>Steins;Gate</td>\n",
       "      <td>Sci-Fi, Thriller</td>\n",
       "      <td>TV</td>\n",
       "      <td>24</td>\n",
       "      <td>9.17</td>\n",
       "      <td>673572</td>\n",
       "      <td>Steins;Gate, Sci-Fi, Thriller</td>\n",
       "    </tr>\n",
       "    <tr>\n",
       "      <th>4</th>\n",
       "      <td>9969</td>\n",
       "      <td>Gintama&amp;#039;</td>\n",
       "      <td>Action, Comedy, Historical, Parody, Samurai, S...</td>\n",
       "      <td>TV</td>\n",
       "      <td>51</td>\n",
       "      <td>9.16</td>\n",
       "      <td>151266</td>\n",
       "      <td>Gintama&amp;#039;, Action, Comedy, Historical, Par...</td>\n",
       "    </tr>\n",
       "  </tbody>\n",
       "</table>\n",
       "</div>"
      ],
      "text/plain": [
       "   anime_id                              name  \\\n",
       "0     32281                    Kimi no Na wa.   \n",
       "1      5114  Fullmetal Alchemist: Brotherhood   \n",
       "2     28977                          Gintama°   \n",
       "3      9253                       Steins;Gate   \n",
       "4      9969                     Gintama&#039;   \n",
       "\n",
       "                                               genre   type episodes  rating  \\\n",
       "0               Drama, Romance, School, Supernatural  Movie        1    9.37   \n",
       "1  Action, Adventure, Drama, Fantasy, Magic, Mili...     TV       64    9.26   \n",
       "2  Action, Comedy, Historical, Parody, Samurai, S...     TV       51    9.25   \n",
       "3                                   Sci-Fi, Thriller     TV       24    9.17   \n",
       "4  Action, Comedy, Historical, Parody, Samurai, S...     TV       51    9.16   \n",
       "\n",
       "   members                                               tags  \n",
       "0   200630  Kimi no Na wa., Drama, Romance, School, Supern...  \n",
       "1   793665  Fullmetal Alchemist: Brotherhood, Action, Adve...  \n",
       "2   114262  Gintama°, Action, Comedy, Historical, Parody, ...  \n",
       "3   673572                      Steins;Gate, Sci-Fi, Thriller  \n",
       "4   151266  Gintama&#039;, Action, Comedy, Historical, Par...  "
      ]
     },
     "execution_count": 65,
     "metadata": {},
     "output_type": "execute_result"
    }
   ],
   "source": [
    "anime.head()"
   ]
  },
  {
   "cell_type": "code",
   "execution_count": 66,
   "id": "7892d215-9a83-4089-92c8-d397efc799cc",
   "metadata": {},
   "outputs": [],
   "source": [
    "indices = pd.Series(anime.index, index=anime['name'])"
   ]
  },
  {
   "cell_type": "code",
   "execution_count": 67,
   "id": "780af458-da1d-44cb-b616-1a986a520807",
   "metadata": {},
   "outputs": [],
   "source": [
    "tf = TfidfVectorizer(analyzer='word', ngram_range=(1,2),\n",
    "                     min_df=0.0, stop_words='english')\n",
    "\n",
    "# Produce a feature matrix, where each row corresponds to a book,\n",
    "# with TF-IDF features as columns \n",
    "tf_authTags_matrix = tf.fit_transform(anime['tags'])"
   ]
  },
  {
   "cell_type": "code",
   "execution_count": 68,
   "id": "3160059d-6a42-43a6-9034-ad5c47be8f92",
   "metadata": {},
   "outputs": [
    {
     "name": "stdout",
     "output_type": "stream",
     "text": [
      "(12017, 12017)\n"
     ]
    }
   ],
   "source": [
    "cosine_sim_Tags = cosine_similarity(tf_authTags_matrix, \n",
    "                                        tf_authTags_matrix)\n",
    "print (cosine_sim_Tags.shape)"
   ]
  },
  {
   "cell_type": "code",
   "execution_count": 69,
   "id": "1f58dc65-f3ab-492f-b859-9cf2f682fb4b",
   "metadata": {},
   "outputs": [
    {
     "data": {
      "text/plain": [
       "np.float64(0.0)"
      ]
     },
     "execution_count": 69,
     "metadata": {},
     "output_type": "execute_result"
    }
   ],
   "source": [
    "np.min(cosine_sim_Tags)"
   ]
  },
  {
   "cell_type": "code",
   "execution_count": 70,
   "id": "a5cec31c-25aa-41f8-96e1-bc7f178bc52d",
   "metadata": {},
   "outputs": [
    {
     "data": {
      "text/plain": [
       "name\n",
       "Kimi no Na wa.                                            0\n",
       "Fullmetal Alchemist: Brotherhood                          1\n",
       "Gintama°                                                  2\n",
       "Steins;Gate                                               3\n",
       "Gintama&#039;                                             4\n",
       "                                                      ...  \n",
       "Toushindai My Lover: Minami tai Mecha-Minami          12012\n",
       "Under World                                           12013\n",
       "Violence Gekiga David no Hoshi                        12014\n",
       "Violence Gekiga Shin David no Hoshi: Inma Densetsu    12015\n",
       "Yasuji no Pornorama: Yacchimae!!                      12016\n",
       "Length: 12017, dtype: int64"
      ]
     },
     "metadata": {},
     "output_type": "display_data"
    }
   ],
   "source": [
    "display(indices)"
   ]
  },
  {
   "cell_type": "code",
   "execution_count": 71,
   "id": "c4ee9305-d2e2-4059-b697-86f1dcf7adb6",
   "metadata": {},
   "outputs": [],
   "source": [
    "def content_generate_top_N_recommendations(title, N=10):\n",
    "    # Convert the string book title to a numeric index for our \n",
    "    # similarity matrix\n",
    "    b_idx = indices[title]\n",
    "    # Extract all similarity values computed with the reference book title\n",
    "    sim_scores = list(enumerate(cosine_sim_Tags[b_idx]))\n",
    "    # Sort the values, keeping a copy of the original index of each value\n",
    "    sim_scores = sorted(sim_scores, key=lambda x: x[1], reverse=True)\n",
    "    # Select the top-N values for recommendation\n",
    "    sim_scores = sim_scores[1:N]\n",
    "    # Collect indexes \n",
    "    book_indices = [i[0] for i in sim_scores]\n",
    "    # Convert the indexes back into titles \n",
    "    return anime.iloc[book_indices]"
   ]
  },
  {
   "cell_type": "code",
   "execution_count": 72,
   "id": "06af2a15-15b2-47ce-8362-82cd24aa46e1",
   "metadata": {},
   "outputs": [
    {
     "data": {
      "text/html": [
       "<div>\n",
       "<style scoped>\n",
       "    .dataframe tbody tr th:only-of-type {\n",
       "        vertical-align: middle;\n",
       "    }\n",
       "\n",
       "    .dataframe tbody tr th {\n",
       "        vertical-align: top;\n",
       "    }\n",
       "\n",
       "    .dataframe thead th {\n",
       "        text-align: right;\n",
       "    }\n",
       "</style>\n",
       "<table border=\"1\" class=\"dataframe\">\n",
       "  <thead>\n",
       "    <tr style=\"text-align: right;\">\n",
       "      <th></th>\n",
       "      <th>anime_id</th>\n",
       "      <th>name</th>\n",
       "      <th>genre</th>\n",
       "      <th>type</th>\n",
       "      <th>episodes</th>\n",
       "      <th>rating</th>\n",
       "      <th>members</th>\n",
       "      <th>tags</th>\n",
       "    </tr>\n",
       "  </thead>\n",
       "  <tbody>\n",
       "    <tr>\n",
       "      <th>0</th>\n",
       "      <td>32281</td>\n",
       "      <td>Kimi no Na wa.</td>\n",
       "      <td>Drama, Romance, School, Supernatural</td>\n",
       "      <td>Movie</td>\n",
       "      <td>1</td>\n",
       "      <td>9.37</td>\n",
       "      <td>200630</td>\n",
       "      <td>Kimi no Na wa., Drama, Romance, School, Supern...</td>\n",
       "    </tr>\n",
       "    <tr>\n",
       "      <th>1</th>\n",
       "      <td>5114</td>\n",
       "      <td>Fullmetal Alchemist: Brotherhood</td>\n",
       "      <td>Action, Adventure, Drama, Fantasy, Magic, Mili...</td>\n",
       "      <td>TV</td>\n",
       "      <td>64</td>\n",
       "      <td>9.26</td>\n",
       "      <td>793665</td>\n",
       "      <td>Fullmetal Alchemist: Brotherhood, Action, Adve...</td>\n",
       "    </tr>\n",
       "    <tr>\n",
       "      <th>2</th>\n",
       "      <td>28977</td>\n",
       "      <td>Gintama°</td>\n",
       "      <td>Action, Comedy, Historical, Parody, Samurai, S...</td>\n",
       "      <td>TV</td>\n",
       "      <td>51</td>\n",
       "      <td>9.25</td>\n",
       "      <td>114262</td>\n",
       "      <td>Gintama°, Action, Comedy, Historical, Parody, ...</td>\n",
       "    </tr>\n",
       "    <tr>\n",
       "      <th>3</th>\n",
       "      <td>9253</td>\n",
       "      <td>Steins;Gate</td>\n",
       "      <td>Sci-Fi, Thriller</td>\n",
       "      <td>TV</td>\n",
       "      <td>24</td>\n",
       "      <td>9.17</td>\n",
       "      <td>673572</td>\n",
       "      <td>Steins;Gate, Sci-Fi, Thriller</td>\n",
       "    </tr>\n",
       "    <tr>\n",
       "      <th>4</th>\n",
       "      <td>9969</td>\n",
       "      <td>Gintama&amp;#039;</td>\n",
       "      <td>Action, Comedy, Historical, Parody, Samurai, S...</td>\n",
       "      <td>TV</td>\n",
       "      <td>51</td>\n",
       "      <td>9.16</td>\n",
       "      <td>151266</td>\n",
       "      <td>Gintama&amp;#039;, Action, Comedy, Historical, Par...</td>\n",
       "    </tr>\n",
       "  </tbody>\n",
       "</table>\n",
       "</div>"
      ],
      "text/plain": [
       "   anime_id                              name  \\\n",
       "0     32281                    Kimi no Na wa.   \n",
       "1      5114  Fullmetal Alchemist: Brotherhood   \n",
       "2     28977                          Gintama°   \n",
       "3      9253                       Steins;Gate   \n",
       "4      9969                     Gintama&#039;   \n",
       "\n",
       "                                               genre   type episodes  rating  \\\n",
       "0               Drama, Romance, School, Supernatural  Movie        1    9.37   \n",
       "1  Action, Adventure, Drama, Fantasy, Magic, Mili...     TV       64    9.26   \n",
       "2  Action, Comedy, Historical, Parody, Samurai, S...     TV       51    9.25   \n",
       "3                                   Sci-Fi, Thriller     TV       24    9.17   \n",
       "4  Action, Comedy, Historical, Parody, Samurai, S...     TV       51    9.16   \n",
       "\n",
       "   members                                               tags  \n",
       "0   200630  Kimi no Na wa., Drama, Romance, School, Supern...  \n",
       "1   793665  Fullmetal Alchemist: Brotherhood, Action, Adve...  \n",
       "2   114262  Gintama°, Action, Comedy, Historical, Parody, ...  \n",
       "3   673572                      Steins;Gate, Sci-Fi, Thriller  \n",
       "4   151266  Gintama&#039;, Action, Comedy, Historical, Par...  "
      ]
     },
     "execution_count": 72,
     "metadata": {},
     "output_type": "execute_result"
    }
   ],
   "source": [
    "anime.head()"
   ]
  },
  {
   "cell_type": "code",
   "execution_count": 73,
   "id": "1001b4bc-b76f-41c0-a777-6b0451aefbf2",
   "metadata": {},
   "outputs": [
    {
     "data": {
      "text/html": [
       "<div>\n",
       "<style scoped>\n",
       "    .dataframe tbody tr th:only-of-type {\n",
       "        vertical-align: middle;\n",
       "    }\n",
       "\n",
       "    .dataframe tbody tr th {\n",
       "        vertical-align: top;\n",
       "    }\n",
       "\n",
       "    .dataframe thead th {\n",
       "        text-align: right;\n",
       "    }\n",
       "</style>\n",
       "<table border=\"1\" class=\"dataframe\">\n",
       "  <thead>\n",
       "    <tr style=\"text-align: right;\">\n",
       "      <th></th>\n",
       "      <th>anime_id</th>\n",
       "      <th>name</th>\n",
       "      <th>genre</th>\n",
       "      <th>type</th>\n",
       "      <th>episodes</th>\n",
       "      <th>rating</th>\n",
       "      <th>members</th>\n",
       "      <th>tags</th>\n",
       "    </tr>\n",
       "  </thead>\n",
       "  <tbody>\n",
       "    <tr>\n",
       "      <th>1907</th>\n",
       "      <td>2926</td>\n",
       "      <td>Myself; Yourself</td>\n",
       "      <td>Drama, Romance, School</td>\n",
       "      <td>TV</td>\n",
       "      <td>13</td>\n",
       "      <td>7.41</td>\n",
       "      <td>115075</td>\n",
       "      <td>Myself; Yourself, Drama, Romance, School</td>\n",
       "    </tr>\n",
       "    <tr>\n",
       "      <th>11197</th>\n",
       "      <td>5643</td>\n",
       "      <td>Kimi no Na wo Yobeba</td>\n",
       "      <td>Hentai, School</td>\n",
       "      <td>OVA</td>\n",
       "      <td>2</td>\n",
       "      <td>6.57</td>\n",
       "      <td>2189</td>\n",
       "      <td>Kimi no Na wo Yobeba, Hentai, School</td>\n",
       "    </tr>\n",
       "    <tr>\n",
       "      <th>3912</th>\n",
       "      <td>17585</td>\n",
       "      <td>Myself ; Yourself Specials</td>\n",
       "      <td>Drama, Romance, School</td>\n",
       "      <td>Special</td>\n",
       "      <td>2</td>\n",
       "      <td>6.85</td>\n",
       "      <td>4128</td>\n",
       "      <td>Myself ; Yourself Specials, Drama, Romance, Sc...</td>\n",
       "    </tr>\n",
       "    <tr>\n",
       "      <th>404</th>\n",
       "      <td>11739</td>\n",
       "      <td>Kimi to Boku. 2</td>\n",
       "      <td>Comedy, Drama, Romance, School, Shounen, Slice...</td>\n",
       "      <td>TV</td>\n",
       "      <td>13</td>\n",
       "      <td>8.11</td>\n",
       "      <td>44564</td>\n",
       "      <td>Kimi to Boku. 2, Comedy, Drama, Romance, Schoo...</td>\n",
       "    </tr>\n",
       "    <tr>\n",
       "      <th>764</th>\n",
       "      <td>10460</td>\n",
       "      <td>Kimi to Boku.</td>\n",
       "      <td>Comedy, Drama, Romance, School, Shounen, Slice...</td>\n",
       "      <td>TV</td>\n",
       "      <td>13</td>\n",
       "      <td>7.85</td>\n",
       "      <td>86196</td>\n",
       "      <td>Kimi to Boku., Comedy, Drama, Romance, School,...</td>\n",
       "    </tr>\n",
       "    <tr>\n",
       "      <th>4570</th>\n",
       "      <td>31716</td>\n",
       "      <td>Rewrite</td>\n",
       "      <td>Action, Comedy, Romance, School, Supernatural</td>\n",
       "      <td>TV</td>\n",
       "      <td>13</td>\n",
       "      <td>6.69</td>\n",
       "      <td>71545</td>\n",
       "      <td>Rewrite, Action, Comedy, Romance, School, Supe...</td>\n",
       "    </tr>\n",
       "    <tr>\n",
       "      <th>4839</th>\n",
       "      <td>1793</td>\n",
       "      <td>Kaze no Na wa Amnesia</td>\n",
       "      <td>Action, Dementia, Drama, Sci-Fi</td>\n",
       "      <td>Movie</td>\n",
       "      <td>1</td>\n",
       "      <td>6.62</td>\n",
       "      <td>8230</td>\n",
       "      <td>Kaze no Na wa Amnesia, Action, Dementia, Drama...</td>\n",
       "    </tr>\n",
       "    <tr>\n",
       "      <th>5803</th>\n",
       "      <td>547</td>\n",
       "      <td>Wind: A Breath of Heart OVA</td>\n",
       "      <td>Drama, Romance, School, Supernatural</td>\n",
       "      <td>OVA</td>\n",
       "      <td>3</td>\n",
       "      <td>6.35</td>\n",
       "      <td>2043</td>\n",
       "      <td>Wind: A Breath of Heart OVA, Drama, Romance, S...</td>\n",
       "    </tr>\n",
       "    <tr>\n",
       "      <th>6391</th>\n",
       "      <td>546</td>\n",
       "      <td>Wind: A Breath of Heart (TV)</td>\n",
       "      <td>Drama, Romance, School, Supernatural</td>\n",
       "      <td>TV</td>\n",
       "      <td>13</td>\n",
       "      <td>6.14</td>\n",
       "      <td>7778</td>\n",
       "      <td>Wind: A Breath of Heart (TV), Drama, Romance, ...</td>\n",
       "    </tr>\n",
       "  </tbody>\n",
       "</table>\n",
       "</div>"
      ],
      "text/plain": [
       "       anime_id                          name  \\\n",
       "1907       2926              Myself; Yourself   \n",
       "11197      5643          Kimi no Na wo Yobeba   \n",
       "3912      17585    Myself ; Yourself Specials   \n",
       "404       11739               Kimi to Boku. 2   \n",
       "764       10460                 Kimi to Boku.   \n",
       "4570      31716                       Rewrite   \n",
       "4839       1793         Kaze no Na wa Amnesia   \n",
       "5803        547   Wind: A Breath of Heart OVA   \n",
       "6391        546  Wind: A Breath of Heart (TV)   \n",
       "\n",
       "                                                   genre     type episodes  \\\n",
       "1907                              Drama, Romance, School       TV       13   \n",
       "11197                                     Hentai, School      OVA        2   \n",
       "3912                              Drama, Romance, School  Special        2   \n",
       "404    Comedy, Drama, Romance, School, Shounen, Slice...       TV       13   \n",
       "764    Comedy, Drama, Romance, School, Shounen, Slice...       TV       13   \n",
       "4570       Action, Comedy, Romance, School, Supernatural       TV       13   \n",
       "4839                     Action, Dementia, Drama, Sci-Fi    Movie        1   \n",
       "5803                Drama, Romance, School, Supernatural      OVA        3   \n",
       "6391                Drama, Romance, School, Supernatural       TV       13   \n",
       "\n",
       "       rating  members                                               tags  \n",
       "1907     7.41   115075           Myself; Yourself, Drama, Romance, School  \n",
       "11197    6.57     2189               Kimi no Na wo Yobeba, Hentai, School  \n",
       "3912     6.85     4128  Myself ; Yourself Specials, Drama, Romance, Sc...  \n",
       "404      8.11    44564  Kimi to Boku. 2, Comedy, Drama, Romance, Schoo...  \n",
       "764      7.85    86196  Kimi to Boku., Comedy, Drama, Romance, School,...  \n",
       "4570     6.69    71545  Rewrite, Action, Comedy, Romance, School, Supe...  \n",
       "4839     6.62     8230  Kaze no Na wa Amnesia, Action, Dementia, Drama...  \n",
       "5803     6.35     2043  Wind: A Breath of Heart OVA, Drama, Romance, S...  \n",
       "6391     6.14     7778  Wind: A Breath of Heart (TV), Drama, Romance, ...  "
      ]
     },
     "execution_count": 73,
     "metadata": {},
     "output_type": "execute_result"
    }
   ],
   "source": [
    "content_generate_top_N_recommendations(\"Kimi no Na wa.\", N=10)"
   ]
  },
  {
   "cell_type": "markdown",
   "id": "3b471802-7a99-48dd-bc3c-1c483209ae14",
   "metadata": {},
   "source": [
    "**Rating estimation functions**"
   ]
  },
  {
   "cell_type": "code",
   "execution_count": 105,
   "id": "cce0cca3-aa8d-447f-81bb-fd0739493386",
   "metadata": {},
   "outputs": [],
   "source": [
    "def content_generate_rating_estimate(title, user, rating_data, k=10, threshold=0.0):\n",
    "    # Convert the book title to a numeric index for our \n",
    "    # similarity matrix\n",
    "    #print(title)\n",
    "    b_idx = indices[title]\n",
    "    #print(b_idx)\n",
    "    neighbors = [] # <-- Stores our collection of similarity values \n",
    "     \n",
    "    # Gather the similarity ratings between each book the user has rated\n",
    "    # and the reference book \n",
    "    for index, row in rating_data[rating_data['user_id']==user].iterrows():\n",
    "        #print(row['name'])\n",
    "        #print(b_idx-1, indices[row['name']]-1)\n",
    "        sim = cosine_sim_Tags[b_idx-1, indices[row['name']]-1]\n",
    "        neighbors.append((sim, row['rating']))\n",
    "    # Select the top-N values from our collection\n",
    "    k_neighbors = heapq.nlargest(k, neighbors, key=lambda t: t[0])\n",
    "\n",
    "    # Compute the weighted average using similarity scores and \n",
    "    # user item ratings. \n",
    "    simTotal, weightedSum = 0, 0\n",
    "    for (simScore, rating) in k_neighbors:\n",
    "        # Ensure that similarity ratings are above a given threshold\n",
    "        if (simScore > threshold):\n",
    "            simTotal += simScore\n",
    "            weightedSum += simScore * rating\n",
    "    try:\n",
    "        predictedRating = weightedSum / simTotal\n",
    "    except ZeroDivisionError:\n",
    "        # Cold-start problem - No ratings given by user. \n",
    "        # We use the average rating for the reference item as a proxy in this case \n",
    "        predictedRating = np.mean(rating_data[rating_data['name']== title]['rating'])\n",
    "    return predictedRating"
   ]
  },
  {
   "cell_type": "markdown",
   "id": "4c177945-be62-4c8c-ae53-4faad94b1bf3",
   "metadata": {},
   "source": [
    "**Testing**"
   ]
  },
  {
   "cell_type": "code",
   "execution_count": 75,
   "id": "e4545685-ad9a-4589-9c37-53bf49f453ee",
   "metadata": {},
   "outputs": [
    {
     "data": {
      "text/html": [
       "<div>\n",
       "<style scoped>\n",
       "    .dataframe tbody tr th:only-of-type {\n",
       "        vertical-align: middle;\n",
       "    }\n",
       "\n",
       "    .dataframe tbody tr th {\n",
       "        vertical-align: top;\n",
       "    }\n",
       "\n",
       "    .dataframe thead th {\n",
       "        text-align: right;\n",
       "    }\n",
       "</style>\n",
       "<table border=\"1\" class=\"dataframe\">\n",
       "  <thead>\n",
       "    <tr style=\"text-align: right;\">\n",
       "      <th></th>\n",
       "      <th>user_id</th>\n",
       "      <th>anime_id</th>\n",
       "      <th>rating</th>\n",
       "      <th>name</th>\n",
       "    </tr>\n",
       "  </thead>\n",
       "  <tbody>\n",
       "    <tr>\n",
       "      <th>4</th>\n",
       "      <td>3</td>\n",
       "      <td>20</td>\n",
       "      <td>8</td>\n",
       "      <td>Naruto</td>\n",
       "    </tr>\n",
       "    <tr>\n",
       "      <th>5</th>\n",
       "      <td>3</td>\n",
       "      <td>170</td>\n",
       "      <td>9</td>\n",
       "      <td>Slam Dunk</td>\n",
       "    </tr>\n",
       "    <tr>\n",
       "      <th>6</th>\n",
       "      <td>3</td>\n",
       "      <td>199</td>\n",
       "      <td>10</td>\n",
       "      <td>Sen to Chihiro no Kamikakushi</td>\n",
       "    </tr>\n",
       "    <tr>\n",
       "      <th>7</th>\n",
       "      <td>3</td>\n",
       "      <td>225</td>\n",
       "      <td>9</td>\n",
       "      <td>Dragon Ball GT</td>\n",
       "    </tr>\n",
       "    <tr>\n",
       "      <th>8</th>\n",
       "      <td>3</td>\n",
       "      <td>341</td>\n",
       "      <td>6</td>\n",
       "      <td>Spiral: Suiri no Kizuna</td>\n",
       "    </tr>\n",
       "    <tr>\n",
       "      <th>...</th>\n",
       "      <td>...</td>\n",
       "      <td>...</td>\n",
       "      <td>...</td>\n",
       "      <td>...</td>\n",
       "    </tr>\n",
       "    <tr>\n",
       "      <th>84</th>\n",
       "      <td>3</td>\n",
       "      <td>28701</td>\n",
       "      <td>9</td>\n",
       "      <td>Fate/stay night: Unlimited Blade Works 2nd Season</td>\n",
       "    </tr>\n",
       "    <tr>\n",
       "      <th>85</th>\n",
       "      <td>3</td>\n",
       "      <td>28891</td>\n",
       "      <td>9</td>\n",
       "      <td>Haikyuu!! Second Season</td>\n",
       "    </tr>\n",
       "    <tr>\n",
       "      <th>86</th>\n",
       "      <td>3</td>\n",
       "      <td>29854</td>\n",
       "      <td>6</td>\n",
       "      <td>Ushio to Tora (TV)</td>\n",
       "    </tr>\n",
       "    <tr>\n",
       "      <th>87</th>\n",
       "      <td>3</td>\n",
       "      <td>31043</td>\n",
       "      <td>10</td>\n",
       "      <td>Boku dake ga Inai Machi</td>\n",
       "    </tr>\n",
       "    <tr>\n",
       "      <th>88</th>\n",
       "      <td>3</td>\n",
       "      <td>31859</td>\n",
       "      <td>7</td>\n",
       "      <td>Hai to Gensou no Grimgar</td>\n",
       "    </tr>\n",
       "  </tbody>\n",
       "</table>\n",
       "<p>85 rows × 4 columns</p>\n",
       "</div>"
      ],
      "text/plain": [
       "    user_id  anime_id  rating  \\\n",
       "4         3        20       8   \n",
       "5         3       170       9   \n",
       "6         3       199      10   \n",
       "7         3       225       9   \n",
       "8         3       341       6   \n",
       "..      ...       ...     ...   \n",
       "84        3     28701       9   \n",
       "85        3     28891       9   \n",
       "86        3     29854       6   \n",
       "87        3     31043      10   \n",
       "88        3     31859       7   \n",
       "\n",
       "                                                 name  \n",
       "4                                              Naruto  \n",
       "5                                           Slam Dunk  \n",
       "6                       Sen to Chihiro no Kamikakushi  \n",
       "7                                      Dragon Ball GT  \n",
       "8                             Spiral: Suiri no Kizuna  \n",
       "..                                                ...  \n",
       "84  Fate/stay night: Unlimited Blade Works 2nd Season  \n",
       "85                            Haikyuu!! Second Season  \n",
       "86                                 Ushio to Tora (TV)  \n",
       "87                            Boku dake ga Inai Machi  \n",
       "88                           Hai to Gensou no Grimgar  \n",
       "\n",
       "[85 rows x 4 columns]"
      ]
     },
     "execution_count": 75,
     "metadata": {},
     "output_type": "execute_result"
    }
   ],
   "source": [
    "# Subset of ratings from user 314\n",
    "data = train[train['user_id'] == 3]\n",
    "#data = pd.merge(data, anime[['anime_id','name']], on = 'anime_id', how ='left')\n",
    "data"
   ]
  },
  {
   "cell_type": "code",
   "execution_count": 76,
   "id": "49ad36f5-03a5-4696-aa33-cdb6845d3dd6",
   "metadata": {},
   "outputs": [
    {
     "name": "stdout",
     "output_type": "stream",
     "text": [
      "Naruto\n",
      "841\n",
      "Title - Naruto\n",
      "---\n",
      "Actual rating: \t\t 8\n",
      "Predicted rating: \t 8.0\n"
     ]
    }
   ],
   "source": [
    "title = \"Naruto\"\n",
    "actual_rating = data[(data['user_id'] == 3) & (data['name'] == title)]['rating'].values[0]\n",
    "pred_rating = content_generate_rating_estimate(title=title, user=314, rating_data=data)\n",
    "print (f\"Title - {title}\")\n",
    "print (\"---\")\n",
    "print (f\"Actual rating: \\t\\t {actual_rating}\")\n",
    "print (f\"Predicted rating: \\t {pred_rating}\")"
   ]
  },
  {
   "cell_type": "markdown",
   "id": "bb8efce4-c339-4f40-8ac0-75f8dbba9fea",
   "metadata": {},
   "source": [
    "#### Collobarative Filtering"
   ]
  },
  {
   "cell_type": "markdown",
   "id": "4b1ab8a4-378e-4f8c-97e1-0a0f2d270169",
   "metadata": {},
   "source": [
    "Data too large, had to shrink it for memory, we retain the users with the most ratings to ensure most infromation is retained"
   ]
  },
  {
   "cell_type": "code",
   "execution_count": 77,
   "id": "0642f719-98db-4077-a68f-158b20b86d0a",
   "metadata": {},
   "outputs": [],
   "source": [
    "# Filter users with at least 3 ratings\n",
    "user_counts = train['user_id'].value_counts()\n",
    "active_users = user_counts [user_counts  >= 46].index\n",
    "train_shrinked = train[train['user_id'].isin(active_users)]\n",
    "\n",
    "#print(train_shrinked)\n"
   ]
  },
  {
   "cell_type": "code",
   "execution_count": 78,
   "id": "cac609cc-e69d-43af-861b-3dbde964f216",
   "metadata": {},
   "outputs": [],
   "source": [
    "train_shrinked= train_shrinked.reset_index(drop=True) "
   ]
  },
  {
   "cell_type": "code",
   "execution_count": 79,
   "id": "56687dc8-2c86-4855-a155-bb93d4e917fe",
   "metadata": {},
   "outputs": [
    {
     "data": {
      "text/plain": [
       "(32599, 9789)"
      ]
     },
     "execution_count": 79,
     "metadata": {},
     "output_type": "execute_result"
    }
   ],
   "source": [
    "util_matrix = train_shrinked.pivot_table(index=['user_id'], \n",
    "                                       columns=['name'],\n",
    "                                       values='rating') \n",
    "util_matrix.shape"
   ]
  },
  {
   "cell_type": "code",
   "execution_count": 80,
   "id": "3a99b61b-a045-4888-86d8-8e49004d6101",
   "metadata": {},
   "outputs": [],
   "source": [
    "# Normalize each row (a given user's ratings) of the utility matrix\n",
    "import scipy as sp\n",
    "util_matrix_norm = util_matrix.apply(lambda x: (x-np.mean(x))/(np.max(x)-np.min(x)), axis=1)\n",
    "# Fill Nan values with 0's, transpose matrix, and drop users with no ratings\n",
    "util_matrix_norm.fillna(0, inplace=True)\n",
    "util_matrix_norm = util_matrix_norm.T\n",
    "util_matrix_norm = util_matrix_norm.loc[:, (util_matrix_norm != 0).any(axis=0)]\n",
    "# Save the utility matrix in scipy's sparse matrix format\n",
    "util_matrix_sparse = sp.sparse.csr_matrix(util_matrix_norm.values)"
   ]
  },
  {
   "cell_type": "code",
   "execution_count": 81,
   "id": "6911a7eb-1517-4514-94e5-5c7e9b64ee23",
   "metadata": {},
   "outputs": [
    {
     "data": {
      "text/html": [
       "<div>\n",
       "<style scoped>\n",
       "    .dataframe tbody tr th:only-of-type {\n",
       "        vertical-align: middle;\n",
       "    }\n",
       "\n",
       "    .dataframe tbody tr th {\n",
       "        vertical-align: top;\n",
       "    }\n",
       "\n",
       "    .dataframe thead th {\n",
       "        text-align: right;\n",
       "    }\n",
       "</style>\n",
       "<table border=\"1\" class=\"dataframe\">\n",
       "  <thead>\n",
       "    <tr style=\"text-align: right;\">\n",
       "      <th>user_id</th>\n",
       "      <th>3</th>\n",
       "      <th>5</th>\n",
       "      <th>7</th>\n",
       "      <th>11</th>\n",
       "      <th>14</th>\n",
       "      <th>17</th>\n",
       "      <th>21</th>\n",
       "      <th>23</th>\n",
       "      <th>24</th>\n",
       "      <th>27</th>\n",
       "      <th>29</th>\n",
       "      <th>31</th>\n",
       "      <th>37</th>\n",
       "      <th>38</th>\n",
       "      <th>39</th>\n",
       "      <th>40</th>\n",
       "      <th>41</th>\n",
       "      <th>43</th>\n",
       "      <th>44</th>\n",
       "      <th>46</th>\n",
       "      <th>48</th>\n",
       "      <th>50</th>\n",
       "      <th>51</th>\n",
       "      <th>52</th>\n",
       "      <th>62</th>\n",
       "      <th>66</th>\n",
       "      <th>71</th>\n",
       "      <th>73</th>\n",
       "      <th>75</th>\n",
       "      <th>77</th>\n",
       "      <th>79</th>\n",
       "      <th>80</th>\n",
       "      <th>81</th>\n",
       "      <th>87</th>\n",
       "      <th>93</th>\n",
       "      <th>95</th>\n",
       "      <th>98</th>\n",
       "      <th>99</th>\n",
       "      <th>102</th>\n",
       "      <th>104</th>\n",
       "      <th>106</th>\n",
       "      <th>107</th>\n",
       "      <th>108</th>\n",
       "      <th>109</th>\n",
       "      <th>111</th>\n",
       "      <th>112</th>\n",
       "      <th>120</th>\n",
       "      <th>122</th>\n",
       "      <th>123</th>\n",
       "      <th>125</th>\n",
       "      <th>...</th>\n",
       "      <th>73397</th>\n",
       "      <th>73398</th>\n",
       "      <th>73400</th>\n",
       "      <th>73404</th>\n",
       "      <th>73406</th>\n",
       "      <th>73408</th>\n",
       "      <th>73413</th>\n",
       "      <th>73414</th>\n",
       "      <th>73415</th>\n",
       "      <th>73416</th>\n",
       "      <th>73417</th>\n",
       "      <th>73420</th>\n",
       "      <th>73422</th>\n",
       "      <th>73424</th>\n",
       "      <th>73426</th>\n",
       "      <th>73427</th>\n",
       "      <th>73428</th>\n",
       "      <th>73431</th>\n",
       "      <th>73432</th>\n",
       "      <th>73437</th>\n",
       "      <th>73439</th>\n",
       "      <th>73440</th>\n",
       "      <th>73442</th>\n",
       "      <th>73443</th>\n",
       "      <th>73449</th>\n",
       "      <th>73453</th>\n",
       "      <th>73457</th>\n",
       "      <th>73458</th>\n",
       "      <th>73460</th>\n",
       "      <th>73462</th>\n",
       "      <th>73463</th>\n",
       "      <th>73470</th>\n",
       "      <th>73474</th>\n",
       "      <th>73476</th>\n",
       "      <th>73478</th>\n",
       "      <th>73480</th>\n",
       "      <th>73483</th>\n",
       "      <th>73485</th>\n",
       "      <th>73490</th>\n",
       "      <th>73494</th>\n",
       "      <th>73495</th>\n",
       "      <th>73499</th>\n",
       "      <th>73500</th>\n",
       "      <th>73501</th>\n",
       "      <th>73502</th>\n",
       "      <th>73503</th>\n",
       "      <th>73504</th>\n",
       "      <th>73507</th>\n",
       "      <th>73510</th>\n",
       "      <th>73515</th>\n",
       "    </tr>\n",
       "    <tr>\n",
       "      <th>user_id</th>\n",
       "      <th></th>\n",
       "      <th></th>\n",
       "      <th></th>\n",
       "      <th></th>\n",
       "      <th></th>\n",
       "      <th></th>\n",
       "      <th></th>\n",
       "      <th></th>\n",
       "      <th></th>\n",
       "      <th></th>\n",
       "      <th></th>\n",
       "      <th></th>\n",
       "      <th></th>\n",
       "      <th></th>\n",
       "      <th></th>\n",
       "      <th></th>\n",
       "      <th></th>\n",
       "      <th></th>\n",
       "      <th></th>\n",
       "      <th></th>\n",
       "      <th></th>\n",
       "      <th></th>\n",
       "      <th></th>\n",
       "      <th></th>\n",
       "      <th></th>\n",
       "      <th></th>\n",
       "      <th></th>\n",
       "      <th></th>\n",
       "      <th></th>\n",
       "      <th></th>\n",
       "      <th></th>\n",
       "      <th></th>\n",
       "      <th></th>\n",
       "      <th></th>\n",
       "      <th></th>\n",
       "      <th></th>\n",
       "      <th></th>\n",
       "      <th></th>\n",
       "      <th></th>\n",
       "      <th></th>\n",
       "      <th></th>\n",
       "      <th></th>\n",
       "      <th></th>\n",
       "      <th></th>\n",
       "      <th></th>\n",
       "      <th></th>\n",
       "      <th></th>\n",
       "      <th></th>\n",
       "      <th></th>\n",
       "      <th></th>\n",
       "      <th></th>\n",
       "      <th></th>\n",
       "      <th></th>\n",
       "      <th></th>\n",
       "      <th></th>\n",
       "      <th></th>\n",
       "      <th></th>\n",
       "      <th></th>\n",
       "      <th></th>\n",
       "      <th></th>\n",
       "      <th></th>\n",
       "      <th></th>\n",
       "      <th></th>\n",
       "      <th></th>\n",
       "      <th></th>\n",
       "      <th></th>\n",
       "      <th></th>\n",
       "      <th></th>\n",
       "      <th></th>\n",
       "      <th></th>\n",
       "      <th></th>\n",
       "      <th></th>\n",
       "      <th></th>\n",
       "      <th></th>\n",
       "      <th></th>\n",
       "      <th></th>\n",
       "      <th></th>\n",
       "      <th></th>\n",
       "      <th></th>\n",
       "      <th></th>\n",
       "      <th></th>\n",
       "      <th></th>\n",
       "      <th></th>\n",
       "      <th></th>\n",
       "      <th></th>\n",
       "      <th></th>\n",
       "      <th></th>\n",
       "      <th></th>\n",
       "      <th></th>\n",
       "      <th></th>\n",
       "      <th></th>\n",
       "      <th></th>\n",
       "      <th></th>\n",
       "      <th></th>\n",
       "      <th></th>\n",
       "      <th></th>\n",
       "      <th></th>\n",
       "      <th></th>\n",
       "      <th></th>\n",
       "      <th></th>\n",
       "      <th></th>\n",
       "    </tr>\n",
       "  </thead>\n",
       "  <tbody>\n",
       "    <tr>\n",
       "      <th>3</th>\n",
       "      <td>1.000000</td>\n",
       "      <td>0.054259</td>\n",
       "      <td>0.162695</td>\n",
       "      <td>0.049089</td>\n",
       "      <td>-0.012660</td>\n",
       "      <td>0.168410</td>\n",
       "      <td>0.057113</td>\n",
       "      <td>0.013048</td>\n",
       "      <td>0.050693</td>\n",
       "      <td>0.040545</td>\n",
       "      <td>0.030901</td>\n",
       "      <td>0.037963</td>\n",
       "      <td>0.027656</td>\n",
       "      <td>0.052370</td>\n",
       "      <td>-0.009038</td>\n",
       "      <td>0.003135</td>\n",
       "      <td>-0.064437</td>\n",
       "      <td>0.019151</td>\n",
       "      <td>0.038386</td>\n",
       "      <td>0.100383</td>\n",
       "      <td>-0.002401</td>\n",
       "      <td>0.003655</td>\n",
       "      <td>0.020679</td>\n",
       "      <td>0.048257</td>\n",
       "      <td>0.110495</td>\n",
       "      <td>0.004624</td>\n",
       "      <td>0.058720</td>\n",
       "      <td>0.079083</td>\n",
       "      <td>0.065656</td>\n",
       "      <td>0.042861</td>\n",
       "      <td>0.041795</td>\n",
       "      <td>0.083388</td>\n",
       "      <td>-0.047950</td>\n",
       "      <td>0.125389</td>\n",
       "      <td>-0.006979</td>\n",
       "      <td>0.045440</td>\n",
       "      <td>0.079572</td>\n",
       "      <td>-0.017313</td>\n",
       "      <td>0.060802</td>\n",
       "      <td>0.057102</td>\n",
       "      <td>0.072367</td>\n",
       "      <td>0.016809</td>\n",
       "      <td>0.005754</td>\n",
       "      <td>-0.022687</td>\n",
       "      <td>-0.012477</td>\n",
       "      <td>0.009865</td>\n",
       "      <td>0.043834</td>\n",
       "      <td>0.012848</td>\n",
       "      <td>0.129485</td>\n",
       "      <td>-0.007498</td>\n",
       "      <td>...</td>\n",
       "      <td>0.043800</td>\n",
       "      <td>0.067110</td>\n",
       "      <td>0.013587</td>\n",
       "      <td>0.005892</td>\n",
       "      <td>0.029438</td>\n",
       "      <td>0.008087</td>\n",
       "      <td>0.009269</td>\n",
       "      <td>0.062587</td>\n",
       "      <td>0.056780</td>\n",
       "      <td>0.006685</td>\n",
       "      <td>-0.002367</td>\n",
       "      <td>0.053595</td>\n",
       "      <td>0.018138</td>\n",
       "      <td>0.021425</td>\n",
       "      <td>-0.006800</td>\n",
       "      <td>0.053745</td>\n",
       "      <td>0.004774</td>\n",
       "      <td>-0.022118</td>\n",
       "      <td>0.036289</td>\n",
       "      <td>0.057226</td>\n",
       "      <td>0.000000</td>\n",
       "      <td>0.027667</td>\n",
       "      <td>0.007468</td>\n",
       "      <td>0.028946</td>\n",
       "      <td>0.038163</td>\n",
       "      <td>0.035696</td>\n",
       "      <td>0.022909</td>\n",
       "      <td>0.010753</td>\n",
       "      <td>0.009742</td>\n",
       "      <td>-0.003460</td>\n",
       "      <td>0.043296</td>\n",
       "      <td>0.035945</td>\n",
       "      <td>0.016142</td>\n",
       "      <td>0.064449</td>\n",
       "      <td>0.036630</td>\n",
       "      <td>0.019879</td>\n",
       "      <td>0.034336</td>\n",
       "      <td>0.028948</td>\n",
       "      <td>0.060371</td>\n",
       "      <td>0.013607</td>\n",
       "      <td>0.025803</td>\n",
       "      <td>0.079002</td>\n",
       "      <td>0.036228</td>\n",
       "      <td>0.008497</td>\n",
       "      <td>0.006654</td>\n",
       "      <td>0.046271</td>\n",
       "      <td>0.004680</td>\n",
       "      <td>0.012779</td>\n",
       "      <td>0.049307</td>\n",
       "      <td>0.046265</td>\n",
       "    </tr>\n",
       "    <tr>\n",
       "      <th>5</th>\n",
       "      <td>0.054259</td>\n",
       "      <td>1.000000</td>\n",
       "      <td>0.085513</td>\n",
       "      <td>0.028753</td>\n",
       "      <td>0.128188</td>\n",
       "      <td>0.127079</td>\n",
       "      <td>0.043819</td>\n",
       "      <td>0.046176</td>\n",
       "      <td>-0.008117</td>\n",
       "      <td>-0.037422</td>\n",
       "      <td>0.143778</td>\n",
       "      <td>0.010776</td>\n",
       "      <td>0.069701</td>\n",
       "      <td>0.172410</td>\n",
       "      <td>-0.024559</td>\n",
       "      <td>0.030938</td>\n",
       "      <td>-0.006072</td>\n",
       "      <td>0.056115</td>\n",
       "      <td>0.019431</td>\n",
       "      <td>0.087231</td>\n",
       "      <td>0.026547</td>\n",
       "      <td>0.026728</td>\n",
       "      <td>0.021966</td>\n",
       "      <td>0.026953</td>\n",
       "      <td>0.042081</td>\n",
       "      <td>-0.023224</td>\n",
       "      <td>0.064101</td>\n",
       "      <td>0.050697</td>\n",
       "      <td>0.006814</td>\n",
       "      <td>0.080818</td>\n",
       "      <td>0.094208</td>\n",
       "      <td>0.037202</td>\n",
       "      <td>0.072512</td>\n",
       "      <td>0.038467</td>\n",
       "      <td>0.086399</td>\n",
       "      <td>-0.072643</td>\n",
       "      <td>-0.003830</td>\n",
       "      <td>0.108760</td>\n",
       "      <td>0.037806</td>\n",
       "      <td>-0.036144</td>\n",
       "      <td>0.020319</td>\n",
       "      <td>0.005273</td>\n",
       "      <td>0.049837</td>\n",
       "      <td>0.008264</td>\n",
       "      <td>0.050026</td>\n",
       "      <td>0.007877</td>\n",
       "      <td>0.031727</td>\n",
       "      <td>-0.059453</td>\n",
       "      <td>0.061383</td>\n",
       "      <td>0.043585</td>\n",
       "      <td>...</td>\n",
       "      <td>-0.016588</td>\n",
       "      <td>-0.006733</td>\n",
       "      <td>0.019971</td>\n",
       "      <td>0.038316</td>\n",
       "      <td>0.082704</td>\n",
       "      <td>0.003921</td>\n",
       "      <td>0.034638</td>\n",
       "      <td>0.087091</td>\n",
       "      <td>0.072757</td>\n",
       "      <td>0.019181</td>\n",
       "      <td>-0.017296</td>\n",
       "      <td>0.076804</td>\n",
       "      <td>0.011973</td>\n",
       "      <td>0.058189</td>\n",
       "      <td>0.050434</td>\n",
       "      <td>0.050693</td>\n",
       "      <td>0.032329</td>\n",
       "      <td>-0.019893</td>\n",
       "      <td>0.075130</td>\n",
       "      <td>-0.013751</td>\n",
       "      <td>-0.015148</td>\n",
       "      <td>0.014947</td>\n",
       "      <td>-0.004651</td>\n",
       "      <td>0.031496</td>\n",
       "      <td>0.046690</td>\n",
       "      <td>0.067415</td>\n",
       "      <td>0.048365</td>\n",
       "      <td>0.060665</td>\n",
       "      <td>0.067088</td>\n",
       "      <td>0.063244</td>\n",
       "      <td>0.009114</td>\n",
       "      <td>-0.009723</td>\n",
       "      <td>0.077740</td>\n",
       "      <td>0.068551</td>\n",
       "      <td>0.032853</td>\n",
       "      <td>0.081787</td>\n",
       "      <td>0.044072</td>\n",
       "      <td>0.036891</td>\n",
       "      <td>-0.000590</td>\n",
       "      <td>-0.022492</td>\n",
       "      <td>-0.003369</td>\n",
       "      <td>0.098026</td>\n",
       "      <td>-0.002315</td>\n",
       "      <td>-0.036976</td>\n",
       "      <td>0.022518</td>\n",
       "      <td>0.084068</td>\n",
       "      <td>0.015738</td>\n",
       "      <td>0.066545</td>\n",
       "      <td>0.019796</td>\n",
       "      <td>0.044244</td>\n",
       "    </tr>\n",
       "    <tr>\n",
       "      <th>7</th>\n",
       "      <td>0.162695</td>\n",
       "      <td>0.085513</td>\n",
       "      <td>1.000000</td>\n",
       "      <td>-0.022596</td>\n",
       "      <td>0.076354</td>\n",
       "      <td>0.118253</td>\n",
       "      <td>0.089506</td>\n",
       "      <td>0.030809</td>\n",
       "      <td>-0.011535</td>\n",
       "      <td>0.036816</td>\n",
       "      <td>0.058106</td>\n",
       "      <td>-0.006542</td>\n",
       "      <td>0.021766</td>\n",
       "      <td>0.131822</td>\n",
       "      <td>0.033334</td>\n",
       "      <td>0.009098</td>\n",
       "      <td>-0.044979</td>\n",
       "      <td>0.012250</td>\n",
       "      <td>0.014549</td>\n",
       "      <td>0.014550</td>\n",
       "      <td>0.023889</td>\n",
       "      <td>0.063710</td>\n",
       "      <td>0.037170</td>\n",
       "      <td>0.052525</td>\n",
       "      <td>0.026983</td>\n",
       "      <td>0.006097</td>\n",
       "      <td>0.011791</td>\n",
       "      <td>0.012313</td>\n",
       "      <td>0.046830</td>\n",
       "      <td>0.020182</td>\n",
       "      <td>0.009820</td>\n",
       "      <td>0.063482</td>\n",
       "      <td>0.005759</td>\n",
       "      <td>0.008472</td>\n",
       "      <td>0.030672</td>\n",
       "      <td>0.019891</td>\n",
       "      <td>0.009951</td>\n",
       "      <td>0.070826</td>\n",
       "      <td>0.079906</td>\n",
       "      <td>0.059939</td>\n",
       "      <td>0.024666</td>\n",
       "      <td>0.026723</td>\n",
       "      <td>0.057601</td>\n",
       "      <td>-0.001924</td>\n",
       "      <td>0.056277</td>\n",
       "      <td>0.006176</td>\n",
       "      <td>0.073894</td>\n",
       "      <td>-0.055451</td>\n",
       "      <td>0.014718</td>\n",
       "      <td>-0.024099</td>\n",
       "      <td>...</td>\n",
       "      <td>0.030599</td>\n",
       "      <td>0.002801</td>\n",
       "      <td>0.009668</td>\n",
       "      <td>0.015620</td>\n",
       "      <td>0.053003</td>\n",
       "      <td>-0.007806</td>\n",
       "      <td>0.000481</td>\n",
       "      <td>0.068999</td>\n",
       "      <td>0.052201</td>\n",
       "      <td>0.089116</td>\n",
       "      <td>0.082383</td>\n",
       "      <td>-0.003560</td>\n",
       "      <td>0.043418</td>\n",
       "      <td>0.046555</td>\n",
       "      <td>0.006631</td>\n",
       "      <td>0.029441</td>\n",
       "      <td>0.017240</td>\n",
       "      <td>0.061179</td>\n",
       "      <td>0.007084</td>\n",
       "      <td>0.031957</td>\n",
       "      <td>-0.007915</td>\n",
       "      <td>0.051323</td>\n",
       "      <td>0.010943</td>\n",
       "      <td>0.020006</td>\n",
       "      <td>0.045787</td>\n",
       "      <td>0.027550</td>\n",
       "      <td>0.028271</td>\n",
       "      <td>0.057964</td>\n",
       "      <td>0.042750</td>\n",
       "      <td>-0.004632</td>\n",
       "      <td>0.008886</td>\n",
       "      <td>0.008508</td>\n",
       "      <td>0.042738</td>\n",
       "      <td>0.080358</td>\n",
       "      <td>-0.007734</td>\n",
       "      <td>0.069104</td>\n",
       "      <td>-0.000132</td>\n",
       "      <td>0.001026</td>\n",
       "      <td>0.020510</td>\n",
       "      <td>0.046514</td>\n",
       "      <td>0.066711</td>\n",
       "      <td>0.046280</td>\n",
       "      <td>0.051099</td>\n",
       "      <td>0.009686</td>\n",
       "      <td>0.074353</td>\n",
       "      <td>0.032527</td>\n",
       "      <td>0.010885</td>\n",
       "      <td>0.016726</td>\n",
       "      <td>0.053429</td>\n",
       "      <td>0.048959</td>\n",
       "    </tr>\n",
       "    <tr>\n",
       "      <th>11</th>\n",
       "      <td>0.049089</td>\n",
       "      <td>0.028753</td>\n",
       "      <td>-0.022596</td>\n",
       "      <td>1.000000</td>\n",
       "      <td>-0.013600</td>\n",
       "      <td>0.010317</td>\n",
       "      <td>0.044208</td>\n",
       "      <td>-0.063488</td>\n",
       "      <td>-0.009082</td>\n",
       "      <td>0.005873</td>\n",
       "      <td>-0.001770</td>\n",
       "      <td>0.007567</td>\n",
       "      <td>0.035388</td>\n",
       "      <td>0.026393</td>\n",
       "      <td>0.008462</td>\n",
       "      <td>-0.010790</td>\n",
       "      <td>0.018574</td>\n",
       "      <td>0.013579</td>\n",
       "      <td>0.013855</td>\n",
       "      <td>0.014223</td>\n",
       "      <td>0.030523</td>\n",
       "      <td>0.048599</td>\n",
       "      <td>0.113546</td>\n",
       "      <td>-0.011410</td>\n",
       "      <td>0.081165</td>\n",
       "      <td>0.035312</td>\n",
       "      <td>-0.036329</td>\n",
       "      <td>0.107210</td>\n",
       "      <td>0.020308</td>\n",
       "      <td>0.034511</td>\n",
       "      <td>0.012240</td>\n",
       "      <td>0.059723</td>\n",
       "      <td>0.076010</td>\n",
       "      <td>0.053777</td>\n",
       "      <td>0.010698</td>\n",
       "      <td>0.007851</td>\n",
       "      <td>0.015206</td>\n",
       "      <td>-0.023452</td>\n",
       "      <td>0.071488</td>\n",
       "      <td>0.046002</td>\n",
       "      <td>0.010473</td>\n",
       "      <td>-0.090353</td>\n",
       "      <td>-0.046104</td>\n",
       "      <td>0.015445</td>\n",
       "      <td>0.068472</td>\n",
       "      <td>0.036947</td>\n",
       "      <td>0.027407</td>\n",
       "      <td>0.020513</td>\n",
       "      <td>0.030852</td>\n",
       "      <td>0.039128</td>\n",
       "      <td>...</td>\n",
       "      <td>0.068202</td>\n",
       "      <td>0.063428</td>\n",
       "      <td>-0.020733</td>\n",
       "      <td>0.024217</td>\n",
       "      <td>-0.017757</td>\n",
       "      <td>0.038272</td>\n",
       "      <td>0.019047</td>\n",
       "      <td>0.045461</td>\n",
       "      <td>0.061868</td>\n",
       "      <td>-0.011230</td>\n",
       "      <td>-0.018979</td>\n",
       "      <td>0.027971</td>\n",
       "      <td>-0.000837</td>\n",
       "      <td>0.086758</td>\n",
       "      <td>0.025002</td>\n",
       "      <td>0.008079</td>\n",
       "      <td>0.001657</td>\n",
       "      <td>-0.035757</td>\n",
       "      <td>0.065531</td>\n",
       "      <td>0.029028</td>\n",
       "      <td>0.000000</td>\n",
       "      <td>-0.000985</td>\n",
       "      <td>-0.022797</td>\n",
       "      <td>0.091385</td>\n",
       "      <td>0.008457</td>\n",
       "      <td>0.045714</td>\n",
       "      <td>0.039595</td>\n",
       "      <td>0.038953</td>\n",
       "      <td>-0.005036</td>\n",
       "      <td>0.078705</td>\n",
       "      <td>0.139662</td>\n",
       "      <td>0.025497</td>\n",
       "      <td>-0.007173</td>\n",
       "      <td>-0.000819</td>\n",
       "      <td>0.050188</td>\n",
       "      <td>0.033276</td>\n",
       "      <td>0.000000</td>\n",
       "      <td>0.088425</td>\n",
       "      <td>-0.013138</td>\n",
       "      <td>0.016651</td>\n",
       "      <td>0.049595</td>\n",
       "      <td>0.064570</td>\n",
       "      <td>0.016823</td>\n",
       "      <td>-0.053146</td>\n",
       "      <td>0.014943</td>\n",
       "      <td>0.080417</td>\n",
       "      <td>0.022164</td>\n",
       "      <td>0.034082</td>\n",
       "      <td>-0.031618</td>\n",
       "      <td>-0.000547</td>\n",
       "    </tr>\n",
       "    <tr>\n",
       "      <th>14</th>\n",
       "      <td>-0.012660</td>\n",
       "      <td>0.128188</td>\n",
       "      <td>0.076354</td>\n",
       "      <td>-0.013600</td>\n",
       "      <td>1.000000</td>\n",
       "      <td>0.099593</td>\n",
       "      <td>0.152051</td>\n",
       "      <td>-0.044934</td>\n",
       "      <td>0.029810</td>\n",
       "      <td>-0.019720</td>\n",
       "      <td>0.080828</td>\n",
       "      <td>-0.029194</td>\n",
       "      <td>0.024366</td>\n",
       "      <td>0.113727</td>\n",
       "      <td>-0.007364</td>\n",
       "      <td>-0.036282</td>\n",
       "      <td>0.024057</td>\n",
       "      <td>0.014920</td>\n",
       "      <td>0.034736</td>\n",
       "      <td>0.098502</td>\n",
       "      <td>0.049357</td>\n",
       "      <td>0.051774</td>\n",
       "      <td>-0.028903</td>\n",
       "      <td>0.077272</td>\n",
       "      <td>0.022966</td>\n",
       "      <td>-0.017198</td>\n",
       "      <td>0.047777</td>\n",
       "      <td>0.123731</td>\n",
       "      <td>0.011942</td>\n",
       "      <td>0.032143</td>\n",
       "      <td>0.141994</td>\n",
       "      <td>0.111981</td>\n",
       "      <td>0.057973</td>\n",
       "      <td>-0.003495</td>\n",
       "      <td>0.085230</td>\n",
       "      <td>-0.009642</td>\n",
       "      <td>0.021286</td>\n",
       "      <td>0.108459</td>\n",
       "      <td>0.097915</td>\n",
       "      <td>0.003731</td>\n",
       "      <td>0.094596</td>\n",
       "      <td>0.010394</td>\n",
       "      <td>0.040622</td>\n",
       "      <td>-0.012340</td>\n",
       "      <td>0.063937</td>\n",
       "      <td>0.030707</td>\n",
       "      <td>0.012933</td>\n",
       "      <td>-0.030706</td>\n",
       "      <td>0.024357</td>\n",
       "      <td>0.003892</td>\n",
       "      <td>...</td>\n",
       "      <td>0.000000</td>\n",
       "      <td>-0.003641</td>\n",
       "      <td>0.023145</td>\n",
       "      <td>0.026072</td>\n",
       "      <td>0.070834</td>\n",
       "      <td>0.002722</td>\n",
       "      <td>0.019884</td>\n",
       "      <td>0.071153</td>\n",
       "      <td>0.041862</td>\n",
       "      <td>0.066246</td>\n",
       "      <td>0.000945</td>\n",
       "      <td>0.045960</td>\n",
       "      <td>-0.016387</td>\n",
       "      <td>0.018137</td>\n",
       "      <td>0.032294</td>\n",
       "      <td>0.114077</td>\n",
       "      <td>0.037875</td>\n",
       "      <td>0.003777</td>\n",
       "      <td>0.097159</td>\n",
       "      <td>0.047692</td>\n",
       "      <td>0.071312</td>\n",
       "      <td>0.009337</td>\n",
       "      <td>-0.015397</td>\n",
       "      <td>-0.000403</td>\n",
       "      <td>0.029934</td>\n",
       "      <td>0.115206</td>\n",
       "      <td>0.074422</td>\n",
       "      <td>0.113364</td>\n",
       "      <td>-0.008394</td>\n",
       "      <td>0.009316</td>\n",
       "      <td>0.023915</td>\n",
       "      <td>0.027992</td>\n",
       "      <td>0.049805</td>\n",
       "      <td>0.070027</td>\n",
       "      <td>-0.015183</td>\n",
       "      <td>0.069074</td>\n",
       "      <td>0.056136</td>\n",
       "      <td>0.031899</td>\n",
       "      <td>0.005532</td>\n",
       "      <td>0.009417</td>\n",
       "      <td>0.000000</td>\n",
       "      <td>0.037798</td>\n",
       "      <td>0.025999</td>\n",
       "      <td>0.000000</td>\n",
       "      <td>0.148708</td>\n",
       "      <td>0.134200</td>\n",
       "      <td>-0.005684</td>\n",
       "      <td>0.009054</td>\n",
       "      <td>-0.012119</td>\n",
       "      <td>-0.003010</td>\n",
       "    </tr>\n",
       "  </tbody>\n",
       "</table>\n",
       "<p>5 rows × 32482 columns</p>\n",
       "</div>"
      ],
      "text/plain": [
       "user_id     3         5         7         11        14        17        21     \\\n",
       "user_id                                                                         \n",
       "3        1.000000  0.054259  0.162695  0.049089 -0.012660  0.168410  0.057113   \n",
       "5        0.054259  1.000000  0.085513  0.028753  0.128188  0.127079  0.043819   \n",
       "7        0.162695  0.085513  1.000000 -0.022596  0.076354  0.118253  0.089506   \n",
       "11       0.049089  0.028753 -0.022596  1.000000 -0.013600  0.010317  0.044208   \n",
       "14      -0.012660  0.128188  0.076354 -0.013600  1.000000  0.099593  0.152051   \n",
       "\n",
       "user_id     23        24        27        29        31        37        38     \\\n",
       "user_id                                                                         \n",
       "3        0.013048  0.050693  0.040545  0.030901  0.037963  0.027656  0.052370   \n",
       "5        0.046176 -0.008117 -0.037422  0.143778  0.010776  0.069701  0.172410   \n",
       "7        0.030809 -0.011535  0.036816  0.058106 -0.006542  0.021766  0.131822   \n",
       "11      -0.063488 -0.009082  0.005873 -0.001770  0.007567  0.035388  0.026393   \n",
       "14      -0.044934  0.029810 -0.019720  0.080828 -0.029194  0.024366  0.113727   \n",
       "\n",
       "user_id     39        40        41        43        44        46        48     \\\n",
       "user_id                                                                         \n",
       "3       -0.009038  0.003135 -0.064437  0.019151  0.038386  0.100383 -0.002401   \n",
       "5       -0.024559  0.030938 -0.006072  0.056115  0.019431  0.087231  0.026547   \n",
       "7        0.033334  0.009098 -0.044979  0.012250  0.014549  0.014550  0.023889   \n",
       "11       0.008462 -0.010790  0.018574  0.013579  0.013855  0.014223  0.030523   \n",
       "14      -0.007364 -0.036282  0.024057  0.014920  0.034736  0.098502  0.049357   \n",
       "\n",
       "user_id     50        51        52        62        66        71        73     \\\n",
       "user_id                                                                         \n",
       "3        0.003655  0.020679  0.048257  0.110495  0.004624  0.058720  0.079083   \n",
       "5        0.026728  0.021966  0.026953  0.042081 -0.023224  0.064101  0.050697   \n",
       "7        0.063710  0.037170  0.052525  0.026983  0.006097  0.011791  0.012313   \n",
       "11       0.048599  0.113546 -0.011410  0.081165  0.035312 -0.036329  0.107210   \n",
       "14       0.051774 -0.028903  0.077272  0.022966 -0.017198  0.047777  0.123731   \n",
       "\n",
       "user_id     75        77        79        80        81        87        93     \\\n",
       "user_id                                                                         \n",
       "3        0.065656  0.042861  0.041795  0.083388 -0.047950  0.125389 -0.006979   \n",
       "5        0.006814  0.080818  0.094208  0.037202  0.072512  0.038467  0.086399   \n",
       "7        0.046830  0.020182  0.009820  0.063482  0.005759  0.008472  0.030672   \n",
       "11       0.020308  0.034511  0.012240  0.059723  0.076010  0.053777  0.010698   \n",
       "14       0.011942  0.032143  0.141994  0.111981  0.057973 -0.003495  0.085230   \n",
       "\n",
       "user_id     95        98        99        102       104       106       107    \\\n",
       "user_id                                                                         \n",
       "3        0.045440  0.079572 -0.017313  0.060802  0.057102  0.072367  0.016809   \n",
       "5       -0.072643 -0.003830  0.108760  0.037806 -0.036144  0.020319  0.005273   \n",
       "7        0.019891  0.009951  0.070826  0.079906  0.059939  0.024666  0.026723   \n",
       "11       0.007851  0.015206 -0.023452  0.071488  0.046002  0.010473 -0.090353   \n",
       "14      -0.009642  0.021286  0.108459  0.097915  0.003731  0.094596  0.010394   \n",
       "\n",
       "user_id     108       109       111       112       120       122       123    \\\n",
       "user_id                                                                         \n",
       "3        0.005754 -0.022687 -0.012477  0.009865  0.043834  0.012848  0.129485   \n",
       "5        0.049837  0.008264  0.050026  0.007877  0.031727 -0.059453  0.061383   \n",
       "7        0.057601 -0.001924  0.056277  0.006176  0.073894 -0.055451  0.014718   \n",
       "11      -0.046104  0.015445  0.068472  0.036947  0.027407  0.020513  0.030852   \n",
       "14       0.040622 -0.012340  0.063937  0.030707  0.012933 -0.030706  0.024357   \n",
       "\n",
       "user_id     125    ...     73397     73398     73400     73404     73406  \\\n",
       "user_id            ...                                                     \n",
       "3       -0.007498  ...  0.043800  0.067110  0.013587  0.005892  0.029438   \n",
       "5        0.043585  ... -0.016588 -0.006733  0.019971  0.038316  0.082704   \n",
       "7       -0.024099  ...  0.030599  0.002801  0.009668  0.015620  0.053003   \n",
       "11       0.039128  ...  0.068202  0.063428 -0.020733  0.024217 -0.017757   \n",
       "14       0.003892  ...  0.000000 -0.003641  0.023145  0.026072  0.070834   \n",
       "\n",
       "user_id     73408     73413     73414     73415     73416     73417     73420  \\\n",
       "user_id                                                                         \n",
       "3        0.008087  0.009269  0.062587  0.056780  0.006685 -0.002367  0.053595   \n",
       "5        0.003921  0.034638  0.087091  0.072757  0.019181 -0.017296  0.076804   \n",
       "7       -0.007806  0.000481  0.068999  0.052201  0.089116  0.082383 -0.003560   \n",
       "11       0.038272  0.019047  0.045461  0.061868 -0.011230 -0.018979  0.027971   \n",
       "14       0.002722  0.019884  0.071153  0.041862  0.066246  0.000945  0.045960   \n",
       "\n",
       "user_id     73422     73424     73426     73427     73428     73431     73432  \\\n",
       "user_id                                                                         \n",
       "3        0.018138  0.021425 -0.006800  0.053745  0.004774 -0.022118  0.036289   \n",
       "5        0.011973  0.058189  0.050434  0.050693  0.032329 -0.019893  0.075130   \n",
       "7        0.043418  0.046555  0.006631  0.029441  0.017240  0.061179  0.007084   \n",
       "11      -0.000837  0.086758  0.025002  0.008079  0.001657 -0.035757  0.065531   \n",
       "14      -0.016387  0.018137  0.032294  0.114077  0.037875  0.003777  0.097159   \n",
       "\n",
       "user_id     73437     73439     73440     73442     73443     73449     73453  \\\n",
       "user_id                                                                         \n",
       "3        0.057226  0.000000  0.027667  0.007468  0.028946  0.038163  0.035696   \n",
       "5       -0.013751 -0.015148  0.014947 -0.004651  0.031496  0.046690  0.067415   \n",
       "7        0.031957 -0.007915  0.051323  0.010943  0.020006  0.045787  0.027550   \n",
       "11       0.029028  0.000000 -0.000985 -0.022797  0.091385  0.008457  0.045714   \n",
       "14       0.047692  0.071312  0.009337 -0.015397 -0.000403  0.029934  0.115206   \n",
       "\n",
       "user_id     73457     73458     73460     73462     73463     73470     73474  \\\n",
       "user_id                                                                         \n",
       "3        0.022909  0.010753  0.009742 -0.003460  0.043296  0.035945  0.016142   \n",
       "5        0.048365  0.060665  0.067088  0.063244  0.009114 -0.009723  0.077740   \n",
       "7        0.028271  0.057964  0.042750 -0.004632  0.008886  0.008508  0.042738   \n",
       "11       0.039595  0.038953 -0.005036  0.078705  0.139662  0.025497 -0.007173   \n",
       "14       0.074422  0.113364 -0.008394  0.009316  0.023915  0.027992  0.049805   \n",
       "\n",
       "user_id     73476     73478     73480     73483     73485     73490     73494  \\\n",
       "user_id                                                                         \n",
       "3        0.064449  0.036630  0.019879  0.034336  0.028948  0.060371  0.013607   \n",
       "5        0.068551  0.032853  0.081787  0.044072  0.036891 -0.000590 -0.022492   \n",
       "7        0.080358 -0.007734  0.069104 -0.000132  0.001026  0.020510  0.046514   \n",
       "11      -0.000819  0.050188  0.033276  0.000000  0.088425 -0.013138  0.016651   \n",
       "14       0.070027 -0.015183  0.069074  0.056136  0.031899  0.005532  0.009417   \n",
       "\n",
       "user_id     73495     73499     73500     73501     73502     73503     73504  \\\n",
       "user_id                                                                         \n",
       "3        0.025803  0.079002  0.036228  0.008497  0.006654  0.046271  0.004680   \n",
       "5       -0.003369  0.098026 -0.002315 -0.036976  0.022518  0.084068  0.015738   \n",
       "7        0.066711  0.046280  0.051099  0.009686  0.074353  0.032527  0.010885   \n",
       "11       0.049595  0.064570  0.016823 -0.053146  0.014943  0.080417  0.022164   \n",
       "14       0.000000  0.037798  0.025999  0.000000  0.148708  0.134200 -0.005684   \n",
       "\n",
       "user_id     73507     73510     73515  \n",
       "user_id                                \n",
       "3        0.012779  0.049307  0.046265  \n",
       "5        0.066545  0.019796  0.044244  \n",
       "7        0.016726  0.053429  0.048959  \n",
       "11       0.034082 -0.031618 -0.000547  \n",
       "14       0.009054 -0.012119 -0.003010  \n",
       "\n",
       "[5 rows x 32482 columns]"
      ]
     },
     "execution_count": 81,
     "metadata": {},
     "output_type": "execute_result"
    }
   ],
   "source": [
    "# Compute the similarity matrix using the cosine similarity metric\n",
    "user_similarity = cosine_similarity(util_matrix_sparse.T)\n",
    "# Save the matrix as a dataframe to allow for easier indexing  \n",
    "user_sim_df = pd.DataFrame(user_similarity, \n",
    "                           index = util_matrix_norm.columns, \n",
    "                           columns = util_matrix_norm.columns)\n",
    "\n",
    "# Review a small portion of the constructed similarity matrix  \n",
    "user_sim_df[:5]"
   ]
  },
  {
   "cell_type": "code",
   "execution_count": 82,
   "id": "8004040c-749e-478d-a120-592af54cf413",
   "metadata": {},
   "outputs": [],
   "source": [
    "def collab_generate_top_N_recommendations(user, N=10, k=20):\n",
    "    # Cold-start problem - no ratings given by the reference user. \n",
    "    # With no further user data, we solve this by simply recommending\n",
    "    # the top-N most popular books in the item catalogue. \n",
    "    if user not in user_sim_df.columns:\n",
    "        return train_shrinked.groupby('name').mean().sort_values(by='rating',\n",
    "                                        ascending=False).index[:N].to_list()\n",
    "    \n",
    "    # Gather the k users which are most similar to the reference user \n",
    "    sim_users = user_sim_df.sort_values(by=user, ascending=False).index[1:k+1]\n",
    "    favorite_user_items = [] # <-- List of highest rated items gathered from the k users  \n",
    "    most_common_favorites = {} # <-- Dictionary of highest rated items in common for the k users\n",
    "    \n",
    "    for i in sim_users:\n",
    "        # Maximum rating given by the current user to an item \n",
    "        max_score = util_matrix_norm.loc[:, i].max()\n",
    "        # Save the names of items maximally rated by the current user   \n",
    "        favorite_user_items.append(util_matrix_norm[util_matrix_norm.loc[:, i]==max_score].index.tolist())\n",
    "        \n",
    "    # Loop over each user's favourite items and tally which ones are \n",
    "    # most popular overall.\n",
    "    for item_collection in range(len(favorite_user_items)):\n",
    "        for item in favorite_user_items[item_collection]: \n",
    "            if item in most_common_favorites:\n",
    "                most_common_favorites[item] += 1\n",
    "            else:\n",
    "                most_common_favorites[item] = 1\n",
    "    # Sort the overall most popular items and return the top-N instances\n",
    "    sorted_list = sorted(most_common_favorites.items(), key=operator.itemgetter(1), reverse=True)[:N]\n",
    "    top_N = [x[0] for x in sorted_list]\n",
    "    return top_N  "
   ]
  },
  {
   "cell_type": "code",
   "execution_count": 83,
   "id": "3ae2b81f-87de-423e-ab53-79521d6e5e50",
   "metadata": {},
   "outputs": [
    {
     "data": {
      "text/plain": [
       "['Death Note',\n",
       " 'Kuroko no Basket',\n",
       " 'Hunter x Hunter (2011)',\n",
       " 'Bleach',\n",
       " 'Kuroko no Basket 2nd Season',\n",
       " 'Shingeki no Kyojin',\n",
       " 'Boku dake ga Inai Machi',\n",
       " 'Sakurasou no Pet na Kanojo',\n",
       " 'Steins;Gate',\n",
       " 'Sword Art Online']"
      ]
     },
     "execution_count": 83,
     "metadata": {},
     "output_type": "execute_result"
    }
   ],
   "source": [
    "# Our recommended list for user 314\n",
    "collab_generate_top_N_recommendations(3)"
   ]
  },
  {
   "cell_type": "markdown",
   "id": "e10eb826-3d55-4bef-ae8c-688706916ca0",
   "metadata": {},
   "source": [
    "**Recommedation system**"
   ]
  },
  {
   "cell_type": "code",
   "execution_count": 84,
   "id": "d7093719-edcd-4ed6-9abf-5af3eab29046",
   "metadata": {},
   "outputs": [],
   "source": [
    "def collab_generate_rating_estimate(book_title, user, k=20, threshold=0.0):\n",
    "    # Gather the k users which are most similar to the reference user\n",
    "    sim_users = user_sim_df.sort_values(by=user, ascending=False).index[1:k+1]\n",
    "    user_values = user_sim_df.sort_values(by=user, ascending=False).loc[:, user].tolist()[1:k+1]\n",
    "\n",
    "    rating_list = []\n",
    "    weight_list = []\n",
    "\n",
    "    for sim_idx, user_id in enumerate(sim_users):\n",
    "        rating = util_matrix.loc[user_id, book_title]\n",
    "        similarity = user_values[sim_idx]\n",
    "\n",
    "        if not np.isnan(rating) and similarity >= threshold:\n",
    "            rating_list.append(rating * similarity)\n",
    "            weight_list.append(similarity)\n",
    "\n",
    "    try:\n",
    "        predicted_rating = sum(rating_list) / sum(weight_list)\n",
    "    except ZeroDivisionError:\n",
    "        predicted_rating = np.mean(util_matrix[book_title])\n",
    "\n",
    "    return predicted_rating\n"
   ]
  },
  {
   "cell_type": "raw",
   "id": "537c5350-e51f-4f50-a41e-954b17525d9c",
   "metadata": {},
   "source": [
    "def collab_generate_rating_estimate(book_title, user, k=20, threshold=0.0):\n",
    "    # Gather the k users which are most similar to the reference user \n",
    "    print('Gather the k users which are most similar to the reference user')\n",
    "    sim_users = user_sim_df.sort_values(by=user, ascending=False).index[1:k+1]\n",
    "    \n",
    "    # Store the corresponding user's similarity values \n",
    "    print('Store the corresponding users similarity values')\n",
    "    user_values = user_sim_df.sort_values(by=user, ascending=False).loc[:,user].tolist()[1:k+1]\n",
    "    rating_list = [] # <-- List of k user's ratings for the reference item\n",
    "    weight_list = [] # <-- List of k user's similarities to the reference user\n",
    "    \n",
    "    # Create a weighted sum for each of the k users who have rated the \n",
    "    # reference item (book).\n",
    "    print(' Create a weighted sum for each of the k users who have rated the reference item (book).')\n",
    "    print(str(len(sim_users)))\n",
    "    for sim_idx, user_id in enumerate(sim_users):\n",
    "        print(user_id)\n",
    "        # User's rating of the item\n",
    "        rating = util_matrix.loc[user_id, book_title]\n",
    "        # User's similarity to the reference user \n",
    "        similarity = user_values[sim_idx]\n",
    "        # Skip the user if they have not rated the item, or are too dissimilar to \n",
    "        # the reference user\n",
    "        if (np.isnan(rating)) or (similarity < threshold):\n",
    "            continue\n",
    "        elif not np.isnan(rating):\n",
    "            rating_list.append(rating*similarity)\n",
    "            weight_list.append(similarity)\n",
    "    try:\n",
    "        # Return the weighted sum as the predicted rating for the reference item\n",
    "        predicted_rating = sum(rating_list)/sum(weight_list) \n",
    "    except ZeroDivisionError:\n",
    "        # If no ratings for the reference item can be collected, return the average \n",
    "        # rating given by all users for the item.  \n",
    "        predicted_rating = np.mean(util_matrix[book_title])\n",
    "    return predicted_rating"
   ]
  },
  {
   "cell_type": "code",
   "execution_count": 85,
   "id": "b1af69ce-3e79-4eda-8004-b41ddcb24b31",
   "metadata": {},
   "outputs": [],
   "source": [
    "import numpy as np\n",
    "import pandas as pd\n",
    "\n",
    "def collab_generate_rating_estimate(book_title, user, k=20, threshold=0.0):\n",
    "    # Gather the k users most similar to the reference user\n",
    "    #print('Gather the k users most similar to the reference user')\n",
    "    \n",
    "    # Sort the similarity values once and fetch the k most similar users and their similarity values\n",
    "    sorted_sim_users = user_sim_df[user].sort_values(ascending=False).iloc[1:k+1]\n",
    "    \n",
    "    # Get the user IDs and their corresponding similarity values\n",
    "    sim_users = sorted_sim_users.index\n",
    "    user_values = sorted_sim_users.values\n",
    "    \n",
    "    # Extract ratings for the book title (avoiding repeated lookups)\n",
    "    ratings = util_matrix.loc[sim_users, book_title].values\n",
    "    \n",
    "    # Filter out invalid ratings (NaN or below threshold) and compute weighted sum\n",
    "    #print(f'Create weighted sum for each of the {len(sim_users)} users who have rated the item.')\n",
    "    \n",
    "    # Mask to filter out users with NaN ratings or similarity below threshold\n",
    "    valid_mask = ~np.isnan(ratings) & (user_values >= threshold)\n",
    "    \n",
    "    # Apply mask to ratings and similarities\n",
    "    valid_ratings = ratings[valid_mask]\n",
    "    valid_similarities = user_values[valid_mask]\n",
    "    \n",
    "    # Calculate weighted sum\n",
    "    if valid_ratings.size > 0:  # Ensure there are valid ratings\n",
    "        weighted_sum = np.sum(valid_ratings * valid_similarities)\n",
    "        total_weight = np.sum(valid_similarities)\n",
    "        \n",
    "        # Return the predicted rating as weighted average\n",
    "        predicted_rating = weighted_sum / total_weight\n",
    "    else:\n",
    "        # If no valid ratings, return the average rating for the book\n",
    "        print('No valid ratings found, returning average rating for the item.')\n",
    "        predicted_rating = np.mean(util_matrix[book_title].dropna())\n",
    "    \n",
    "    return predicted_rating\n"
   ]
  },
  {
   "cell_type": "markdown",
   "id": "3ed4cb9c-e6f9-43f8-a176-6e605f06d473",
   "metadata": {},
   "source": [
    "**Testing**"
   ]
  },
  {
   "cell_type": "code",
   "execution_count": 86,
   "id": "d88f0ece-6dab-459d-8a6b-69da68cd0747",
   "metadata": {},
   "outputs": [
    {
     "data": {
      "text/html": [
       "<div>\n",
       "<style scoped>\n",
       "    .dataframe tbody tr th:only-of-type {\n",
       "        vertical-align: middle;\n",
       "    }\n",
       "\n",
       "    .dataframe tbody tr th {\n",
       "        vertical-align: top;\n",
       "    }\n",
       "\n",
       "    .dataframe thead th {\n",
       "        text-align: right;\n",
       "    }\n",
       "</style>\n",
       "<table border=\"1\" class=\"dataframe\">\n",
       "  <thead>\n",
       "    <tr style=\"text-align: right;\">\n",
       "      <th></th>\n",
       "      <th>user_id</th>\n",
       "      <th>anime_id</th>\n",
       "      <th>rating</th>\n",
       "      <th>name</th>\n",
       "    </tr>\n",
       "  </thead>\n",
       "  <tbody>\n",
       "    <tr>\n",
       "      <th>180466</th>\n",
       "      <td>2986</td>\n",
       "      <td>20</td>\n",
       "      <td>10</td>\n",
       "      <td>Naruto</td>\n",
       "    </tr>\n",
       "  </tbody>\n",
       "</table>\n",
       "</div>"
      ],
      "text/plain": [
       "        user_id  anime_id  rating    name\n",
       "180466     2986        20      10  Naruto"
      ]
     },
     "execution_count": 86,
     "metadata": {},
     "output_type": "execute_result"
    }
   ],
   "source": [
    "train_shrinked[(train_shrinked.user_id == 2986) & (train_shrinked.name == 'Naruto')]"
   ]
  },
  {
   "cell_type": "code",
   "execution_count": 87,
   "id": "d894194d-7160-4456-aed1-ae3eac0dc315",
   "metadata": {},
   "outputs": [
    {
     "name": "stdout",
     "output_type": "stream",
     "text": [
      "Title - Naruto\n",
      "---\n",
      "Actual rating: \t\t 8\n",
      "Predicted rating: \t 8.4926627182628\n"
     ]
    }
   ],
   "source": [
    "title = \"Naruto\"\n",
    "actual_rating = train_shrinked[(train_shrinked['user_id'] == 3) & (train_shrinked['name'] == title)]['rating'].values[0]\n",
    "pred_rating = collab_generate_rating_estimate(title,3)\n",
    "print (f\"Title - {title}\")\n",
    "print (\"---\")\n",
    "print (f\"Actual rating: \\t\\t {actual_rating}\")\n",
    "print (f\"Predicted rating: \\t {pred_rating}\")"
   ]
  },
  {
   "cell_type": "markdown",
   "id": "49ad8a89-427d-4366-b1fc-76f60f33912a",
   "metadata": {},
   "source": [
    "Content based had a more accurate predicted rating, but this is only one example out of many, below we test the peformance of both model on a large sample of data"
   ]
  },
  {
   "cell_type": "markdown",
   "id": "7a6c2574",
   "metadata": {},
   "source": [
    "### 7. Model Performance  <a class=\"anchor\" id=\"chapter8\"></a>"
   ]
  },
  {
   "cell_type": "code",
   "execution_count": 88,
   "id": "dfb9f5b6-7da3-483c-8c6a-b4f06e7652ba",
   "metadata": {},
   "outputs": [],
   "source": [
    "#Test performance of each method \n",
    "\n",
    "from sklearn.feature_extraction.text import TfidfVectorizer\n",
    "from sklearn.metrics.pairwise import linear_kernel \n",
    "from sklearn.metrics import mean_squared_error\n",
    "\n",
    "\n",
    "#load test data \n",
    "#df = pd.read_csv(\"test.csv\", index_col=False)\n",
    "#test = df.copy()\n",
    "#test.shape\n",
    "test= train_shrinked.copy()\n",
    "#test = pd.merge(data, anime[['anime_id','name']], on = 'anime_id', how ='left')\n",
    "#test.dropna(inplace= True)\n",
    "test['id'] = test[['anime_id', 'user_id']].fillna('').astype(str).agg('_'.join, axis=1)\n",
    "\n"
   ]
  },
  {
   "cell_type": "code",
   "execution_count": 114,
   "id": "08e47d48-8c0c-4e16-9aeb-58fe3437fea7",
   "metadata": {},
   "outputs": [],
   "source": [
    "test_sample = test.sample(100) \n",
    "test_sample = test_sample[test_sample.user_id.isin(np.array(user_sim_df.index))]\n",
    "test_sample_id = np.array(test_sample['id'])\n",
    "# Sample unique numbers \n",
    "#sampled_numbers = np.array(pd.Series(unique_numbers).sample(10))\n",
    "#test_sample = test[test['id'].isin(test_sample_id)]\n",
    "\n",
    "\n",
    "data = test[test['user_id'].isin(np.array(test_sample['user_id']))]\n"
   ]
  },
  {
   "cell_type": "code",
   "execution_count": 115,
   "id": "c0362839-d654-4664-ba01-fe2ef6aeac64",
   "metadata": {},
   "outputs": [
    {
     "data": {
      "text/plain": [
       "(100, 5)"
      ]
     },
     "execution_count": 115,
     "metadata": {},
     "output_type": "execute_result"
    }
   ],
   "source": [
    "test_sample.shape"
   ]
  },
  {
   "cell_type": "code",
   "execution_count": 116,
   "id": "3b111eae-4a09-48fd-9215-c9379b7c38a1",
   "metadata": {},
   "outputs": [
    {
     "name": "stderr",
     "output_type": "stream",
     "text": [
      "100%|████████████████████████████████████████████████████████████████████████████████| 100/100 [00:08<00:00, 12.41it/s]\n"
     ]
    }
   ],
   "source": [
    "from tqdm import trange\n",
    "test_sample['predicted_rating']=0\n",
    "for i in trange(len(test_sample)):\n",
    "    # Subset of ratings from user 314\n",
    "    title = test_sample.iloc[i]['name']\n",
    "    user =  test_sample.iloc[i]['user_id']\n",
    "    data = train_shrinked[train_shrinked['user_id'] == test_sample.iloc[i]['user_id']]\n",
    "    test_sample.loc[test_sample.id == test_sample.iloc[i]['id'],'predicted_rating'] = content_generate_rating_estimate(title=title, user=user, rating_data=data)"
   ]
  },
  {
   "cell_type": "code",
   "execution_count": 117,
   "id": "b884e437-63d3-4f1a-a522-716ec8ae334e",
   "metadata": {},
   "outputs": [
    {
     "name": "stderr",
     "output_type": "stream",
     "text": [
      "  2%|█▋                                                                                | 2/100 [00:08<07:20,  4.49s/it]"
     ]
    },
    {
     "name": "stdout",
     "output_type": "stream",
     "text": [
      "No valid ratings found, returning average rating for the item.\n"
     ]
    },
    {
     "name": "stderr",
     "output_type": "stream",
     "text": [
      " 13%|██████████▌                                                                      | 13/100 [00:35<04:08,  2.86s/it]"
     ]
    },
    {
     "name": "stdout",
     "output_type": "stream",
     "text": [
      "No valid ratings found, returning average rating for the item.\n"
     ]
    },
    {
     "name": "stderr",
     "output_type": "stream",
     "text": [
      " 20%|████████████████▏                                                                | 20/100 [00:40<01:20,  1.01s/it]"
     ]
    },
    {
     "name": "stdout",
     "output_type": "stream",
     "text": [
      "No valid ratings found, returning average rating for the item.\n"
     ]
    },
    {
     "name": "stderr",
     "output_type": "stream",
     "text": [
      " 21%|█████████████████                                                                | 21/100 [00:44<02:22,  1.80s/it]"
     ]
    },
    {
     "name": "stdout",
     "output_type": "stream",
     "text": [
      "No valid ratings found, returning average rating for the item.\n",
      "No valid ratings found, returning average rating for the item.\n"
     ]
    },
    {
     "name": "stderr",
     "output_type": "stream",
     "text": [
      " 29%|███████████████████████▍                                                         | 29/100 [01:02<03:45,  3.17s/it]"
     ]
    },
    {
     "name": "stdout",
     "output_type": "stream",
     "text": [
      "No valid ratings found, returning average rating for the item.\n"
     ]
    },
    {
     "name": "stderr",
     "output_type": "stream",
     "text": [
      " 33%|██████████████████████████▋                                                      | 33/100 [01:07<01:49,  1.63s/it]"
     ]
    },
    {
     "name": "stdout",
     "output_type": "stream",
     "text": [
      "No valid ratings found, returning average rating for the item.\n"
     ]
    },
    {
     "name": "stderr",
     "output_type": "stream",
     "text": [
      " 36%|█████████████████████████████▏                                                   | 36/100 [01:08<01:02,  1.02it/s]"
     ]
    },
    {
     "name": "stdout",
     "output_type": "stream",
     "text": [
      "No valid ratings found, returning average rating for the item.\n"
     ]
    },
    {
     "name": "stderr",
     "output_type": "stream",
     "text": [
      " 43%|██████████████████████████████████▊                                              | 43/100 [01:21<01:36,  1.70s/it]"
     ]
    },
    {
     "name": "stdout",
     "output_type": "stream",
     "text": [
      "No valid ratings found, returning average rating for the item.\n"
     ]
    },
    {
     "name": "stderr",
     "output_type": "stream",
     "text": [
      " 55%|████████████████████████████████████████████▌                                    | 55/100 [01:41<01:17,  1.72s/it]"
     ]
    },
    {
     "name": "stdout",
     "output_type": "stream",
     "text": [
      "No valid ratings found, returning average rating for the item.\n"
     ]
    },
    {
     "name": "stderr",
     "output_type": "stream",
     "text": [
      " 63%|███████████████████████████████████████████████████                              | 63/100 [01:51<00:49,  1.34s/it]"
     ]
    },
    {
     "name": "stdout",
     "output_type": "stream",
     "text": [
      "No valid ratings found, returning average rating for the item.\n"
     ]
    },
    {
     "name": "stderr",
     "output_type": "stream",
     "text": [
      " 72%|██████████████████████████████████████████████████████████▎                      | 72/100 [02:01<00:21,  1.27it/s]"
     ]
    },
    {
     "name": "stdout",
     "output_type": "stream",
     "text": [
      "No valid ratings found, returning average rating for the item.\n"
     ]
    },
    {
     "name": "stderr",
     "output_type": "stream",
     "text": [
      " 83%|███████████████████████████████████████████████████████████████████▏             | 83/100 [02:29<00:30,  1.77s/it]"
     ]
    },
    {
     "name": "stdout",
     "output_type": "stream",
     "text": [
      "No valid ratings found, returning average rating for the item.\n",
      "No valid ratings found, returning average rating for the item.\n",
      "No valid ratings found, returning average rating for the item.\n"
     ]
    },
    {
     "name": "stderr",
     "output_type": "stream",
     "text": [
      " 89%|████████████████████████████████████████████████████████████████████████         | 89/100 [02:37<00:19,  1.79s/it]"
     ]
    },
    {
     "name": "stdout",
     "output_type": "stream",
     "text": [
      "No valid ratings found, returning average rating for the item.\n"
     ]
    },
    {
     "name": "stderr",
     "output_type": "stream",
     "text": [
      " 93%|███████████████████████████████████████████████████████████████████████████▎     | 93/100 [02:39<00:07,  1.05s/it]"
     ]
    },
    {
     "name": "stdout",
     "output_type": "stream",
     "text": [
      "No valid ratings found, returning average rating for the item.\n"
     ]
    },
    {
     "name": "stderr",
     "output_type": "stream",
     "text": [
      " 95%|████████████████████████████████████████████████████████████████████████████▉    | 95/100 [02:40<00:03,  1.44it/s]"
     ]
    },
    {
     "name": "stdout",
     "output_type": "stream",
     "text": [
      "No valid ratings found, returning average rating for the item.\n"
     ]
    },
    {
     "name": "stderr",
     "output_type": "stream",
     "text": [
      "100%|████████████████████████████████████████████████████████████████████████████████| 100/100 [02:43<00:00,  1.64s/it]\n"
     ]
    }
   ],
   "source": [
    "from tqdm import trange\n",
    "test_sample['predicted_rating_collab']=0\n",
    "for i in trange(len(test_sample)):\n",
    "    # Subset of ratings from user 314\n",
    "    title = test_sample.iloc[i]['name']\n",
    "    user =  test_sample.iloc[i]['user_id']\n",
    "    #data = train[train['user_id'] == test_sample.iloc[i]['user_id']]\n",
    "    test_sample.loc[test_sample.id == test_sample.iloc[i]['id'],'predicted_rating_collab'] = collab_generate_rating_estimate(title,user)"
   ]
  },
  {
   "cell_type": "code",
   "execution_count": 121,
   "id": "53f38387-3503-4452-8019-21276b15f744",
   "metadata": {},
   "outputs": [
    {
     "data": {
      "image/png": "[encoded data removed]",
      "text/plain": [
       "<Figure size 640x480 with 1 Axes>"
      ]
     },
     "metadata": {},
     "output_type": "display_data"
    }
   ],
   "source": [
    "plt.scatter(test_sample.rating, test_sample.predicted_rating,label='content filtering')\n",
    "plt.scatter(test_sample.rating, test_sample.predicted_rating_collab, label='colloborative filtering')\n",
    "plt.ylabel('Predicted ratings')\n",
    "plt.xlabel('Actual ratings')\n",
    "plt.legend()\n",
    "plt.show()"
   ]
  },
  {
   "cell_type": "code",
   "execution_count": 123,
   "id": "c192f9f8-7bbe-4ed7-8a7a-18a7f607dd50",
   "metadata": {},
   "outputs": [
    {
     "name": "stdout",
     "output_type": "stream",
     "text": [
      "Mean Squared Error - Content Filtering: 0.5403506338464736\n",
      "Mean Squared Error - Collobarative Filtering: 1.6502021973847762\n"
     ]
    }
   ],
   "source": [
    "mse = mean_squared_error(test_sample['rating'], test_sample['predicted_rating'])\n",
    "print(f\"Mean Squared Error - Content Filtering: {mse}\")\n",
    "mse = mean_squared_error(test_sample['rating'], test_sample['predicted_rating_collab'])\n",
    "print(f\"Mean Squared Error - Collobarative Filtering: {mse}\")"
   ]
  },
  {
   "cell_type": "markdown",
   "id": "08be999a-d3dd-48f9-a489-6714ad96f58e",
   "metadata": {},
   "source": [
    "Include time element as well, give an approximation for how long content and collobartive will run in streamlit"
   ]
  },
  {
   "cell_type": "markdown",
   "id": "882ad0c0-2ed4-47ef-9502-b4a0a2aa2c08",
   "metadata": {},
   "source": [
    "Content Filtering clearly performances better "
   ]
  },
  {
   "cell_type": "markdown",
   "id": "51baba5e",
   "metadata": {},
   "source": [
    "## 9. Streamlit <a class=\"anchor\" id=\"chapter9\"></a>"
   ]
  },
  {
   "cell_type": "code",
   "execution_count": 126,
   "id": "dc56f3b7-792b-4369-9256-24c703ab5851",
   "metadata": {},
   "outputs": [],
   "source": [
    "import pickle"
   ]
  },
  {
   "cell_type": "code",
   "execution_count": 127,
   "id": "3c24e0c4-de67-4cb5-864f-13f1d5c9d08a",
   "metadata": {},
   "outputs": [],
   "source": [
    "with open('content_model.pkl', 'wb') as f: \n",
    "    pickle.dump(content_generate_rating_estimate, f)"
   ]
  },
  {
   "cell_type": "code",
   "execution_count": 128,
   "id": "5861598a-2e58-4e9b-8570-cd2b54c5e603",
   "metadata": {},
   "outputs": [],
   "source": [
    "with open('collab_model.pkl', 'wb') as f: \n",
    "    pickle.dump(collab_generate_rating_estimate, f)"
   ]
  },
  {
   "cell_type": "markdown",
   "id": "c412c3f5",
   "metadata": {},
   "source": [
    "## 10. Conclusion <a class=\"anchor\" id=\"chapter10\"></a>\n",
    "\n",
    "> <b> Summary of Key Findings:</b> Recap the main insights and results discovered through the analysis. Highlight how these findings answer the initial questions or hypotheses set out in the introduction.\n",
    "\n",
    "> <b> Evaluation of the Methodology:</b> Discuss the effectiveness of the methods and techniques used. Mention any limitations or challenges encountered during the analysis and how they were addressed or could be addressed in the future.\n",
    "\n",
    "> <b> Implications of the Findings:</b> Explain the practical or theoretical implications of the results.Discuss how these findings can impact decision-making processes, policy, business strategies, or scientific understanding.\n",
    "\n",
    "> <b> Suggestions for Future Work:</b> Propose areas for further research or additional questions that emerged from the project. Suggest improvements in data collection, analysis methods, or other aspects that could enhance future studies.\n",
    "\n",
    "> <b> Reflection on the Data Source and Quality:</b> Reflect on the quality and reliability of the data used. Consider how the data source influenced the outcomes and what could be improved in terms of data quality or variety.\n",
    "\n",
    "> <b>Concluding Thoughts:</b> Offer a final thought or summary statement that encapsulates the essence of the project and its impact. Encourage readers to consider broader applications or the next steps following from the project’s conclusions."
   ]
  },
  {
   "cell_type": "code",
   "execution_count": null,
   "id": "24784b7d-bb91-4607-ab18-69c9f88088e9",
   "metadata": {},
   "outputs": [],
   "source": []
  }
 ],
 "metadata": {
  "kernelspec": {
   "display_name": "Python 3 (ipykernel)",
   "language": "python",
   "name": "python3"
  },
  "language_info": {
   "codemirror_mode": {
    "name": "ipython",
    "version": 3
   },
   "file_extension": ".py",
   "mimetype": "text/x-python",
   "name": "python",
   "nbconvert_exporter": "python",
   "pygments_lexer": "ipython3",
   "version": "3.12.7"
  }
 },
 "nbformat": 4,
 "nbformat_minor": 5
}
